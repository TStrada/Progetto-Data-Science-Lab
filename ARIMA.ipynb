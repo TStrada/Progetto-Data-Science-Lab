{
 "cells": [
  {
   "cell_type": "code",
   "execution_count": 1,
   "metadata": {},
   "outputs": [
    {
     "name": "stdout",
     "output_type": "stream",
     "text": [
      "Collecting pmdarima\n",
      "  Downloading pmdarima-1.8.5-cp310-cp310-win_amd64.whl (603 kB)\n",
      "Requirement already satisfied: numpy>=1.19.3 in c:\\users\\ruben\\appdata\\local\\programs\\python\\python310\\lib\\site-packages (from pmdarima) (1.22.0)\n",
      "Requirement already satisfied: Cython!=0.29.18,>=0.29 in c:\\users\\ruben\\appdata\\local\\programs\\python\\python310\\lib\\site-packages (from pmdarima) (0.29.28)\n",
      "Requirement already satisfied: scipy>=1.3.2 in c:\\users\\ruben\\appdata\\local\\programs\\python\\python310\\lib\\site-packages (from pmdarima) (1.7.3)\n",
      "Requirement already satisfied: setuptools!=50.0.0,>=38.6.0 in c:\\users\\ruben\\appdata\\local\\programs\\python\\python310\\lib\\site-packages (from pmdarima) (58.1.0)\n",
      "Requirement already satisfied: urllib3 in c:\\users\\ruben\\appdata\\local\\programs\\python\\python310\\lib\\site-packages (from pmdarima) (1.26.8)\n",
      "Requirement already satisfied: pandas>=0.19 in c:\\users\\ruben\\appdata\\local\\programs\\python\\python310\\lib\\site-packages (from pmdarima) (1.3.5)\n",
      "Requirement already satisfied: statsmodels!=0.12.0,>=0.11 in c:\\users\\ruben\\appdata\\local\\programs\\python\\python310\\lib\\site-packages (from pmdarima) (0.13.1)\n",
      "Collecting scikit-learn>=0.22\n",
      "  Downloading scikit_learn-1.1.1-cp310-cp310-win_amd64.whl (7.3 MB)\n",
      "Collecting joblib>=0.11\n",
      "  Downloading joblib-1.1.0-py2.py3-none-any.whl (306 kB)\n",
      "Requirement already satisfied: python-dateutil>=2.7.3 in c:\\users\\ruben\\appdata\\local\\programs\\python\\python310\\lib\\site-packages (from pandas>=0.19->pmdarima) (2.8.2)\n",
      "Requirement already satisfied: pytz>=2017.3 in c:\\users\\ruben\\appdata\\local\\programs\\python\\python310\\lib\\site-packages (from pandas>=0.19->pmdarima) (2021.3)\n",
      "Requirement already satisfied: six>=1.5 in c:\\users\\ruben\\appdata\\local\\programs\\python\\python310\\lib\\site-packages (from python-dateutil>=2.7.3->pandas>=0.19->pmdarima) (1.16.0)\n",
      "Collecting threadpoolctl>=2.0.0\n",
      "  Downloading threadpoolctl-3.1.0-py3-none-any.whl (14 kB)\n",
      "Requirement already satisfied: patsy>=0.5.2 in c:\\users\\ruben\\appdata\\local\\programs\\python\\python310\\lib\\site-packages (from statsmodels!=0.12.0,>=0.11->pmdarima) (0.5.2)\n",
      "Installing collected packages: threadpoolctl, joblib, scikit-learn, pmdarima\n",
      "Successfully installed joblib-1.1.0 pmdarima-1.8.5 scikit-learn-1.1.1 threadpoolctl-3.1.0\n"
     ]
    },
    {
     "name": "stderr",
     "output_type": "stream",
     "text": [
      "WARNING: You are using pip version 21.2.4; however, version 22.1.1 is available.\n",
      "You should consider upgrading via the 'C:\\Users\\Ruben\\AppData\\Local\\Programs\\Python\\Python310\\python.exe -m pip install --upgrade pip' command.\n"
     ]
    }
   ],
   "source": [
    "! pip install pmdarima"
   ]
  },
  {
   "cell_type": "code",
   "execution_count": 19,
   "metadata": {},
   "outputs": [],
   "source": [
    "import pandas as pd\n",
    "import pmdarima as pmd\n",
    "import numpy as np\n",
    "from pmdarima.model_selection import train_test_split"
   ]
  },
  {
   "cell_type": "code",
   "execution_count": 22,
   "metadata": {},
   "outputs": [],
   "source": [
    "dataset = pd.read_csv('./data/serie-storiche-ecommerce-pulito-no-buchi-temporali.csv')\n",
    "dataset = dataset.sort_values(by='data')\n",
    "dataset = dataset[dataset.totale != 0.0]"
   ]
  },
  {
   "cell_type": "code",
   "execution_count": 23,
   "metadata": {},
   "outputs": [],
   "source": [
    "arima_dataset = dataset[[ \"totale\"]]"
   ]
  },
  {
   "cell_type": "code",
   "execution_count": 24,
   "metadata": {},
   "outputs": [],
   "source": [
    "train, test = train_test_split(arima_dataset, train_size=0.8)\n"
   ]
  },
  {
   "cell_type": "code",
   "execution_count": 25,
   "metadata": {},
   "outputs": [
    {
     "name": "stdout",
     "output_type": "stream",
     "text": [
      "Performing stepwise search to minimize aic\n",
      " ARIMA(0,0,0)(0,0,0)[0]             : AIC=252616.120, Time=0.07 sec\n",
      " ARIMA(1,0,0)(0,0,0)[0]             : AIC=251413.026, Time=0.12 sec\n",
      " ARIMA(0,0,1)(0,0,0)[0]             : AIC=251840.805, Time=0.21 sec\n",
      " ARIMA(2,0,0)(0,0,0)[0]             : AIC=250436.097, Time=0.17 sec\n",
      " ARIMA(3,0,0)(0,0,0)[0]             : AIC=249064.662, Time=0.23 sec\n",
      " ARIMA(4,0,0)(0,0,0)[0]             : AIC=248537.953, Time=0.33 sec\n",
      " ARIMA(5,0,0)(0,0,0)[0]             : AIC=247806.917, Time=0.41 sec\n",
      " ARIMA(5,0,1)(0,0,0)[0]             : AIC=246633.485, Time=2.87 sec\n",
      " ARIMA(4,0,1)(0,0,0)[0]             : AIC=246750.357, Time=1.95 sec\n",
      " ARIMA(5,0,2)(0,0,0)[0]             : AIC=246570.596, Time=4.39 sec\n",
      " ARIMA(4,0,2)(0,0,0)[0]             : AIC=246590.063, Time=2.42 sec\n",
      " ARIMA(5,0,3)(0,0,0)[0]             : AIC=246421.518, Time=5.86 sec\n",
      " ARIMA(4,0,3)(0,0,0)[0]             : AIC=246540.601, Time=6.11 sec\n",
      " ARIMA(5,0,4)(0,0,0)[0]             : AIC=246395.870, Time=9.27 sec\n",
      " ARIMA(4,0,4)(0,0,0)[0]             : AIC=246504.007, Time=9.19 sec\n",
      " ARIMA(5,0,5)(0,0,0)[0]             : AIC=246366.443, Time=12.28 sec\n",
      " ARIMA(4,0,5)(0,0,0)[0]             : AIC=246476.497, Time=11.36 sec\n",
      " ARIMA(5,0,5)(0,0,0)[0] intercept   : AIC=246511.491, Time=14.95 sec\n",
      "\n",
      "Best model:  ARIMA(5,0,5)(0,0,0)[0]          \n",
      "Total fit time: 82.217 seconds\n"
     ]
    }
   ],
   "source": [
    "arima_model = pmd.auto_arima(train, start_p=0, start_q=0, test=\"adf\", seasonal=False,trace=True)"
   ]
  },
  {
   "cell_type": "code",
   "execution_count": 26,
   "metadata": {},
   "outputs": [
    {
     "data": {
      "text/html": [
       "<div>\n",
       "<style scoped>\n",
       "    .dataframe tbody tr th:only-of-type {\n",
       "        vertical-align: middle;\n",
       "    }\n",
       "\n",
       "    .dataframe tbody tr th {\n",
       "        vertical-align: top;\n",
       "    }\n",
       "\n",
       "    .dataframe thead th {\n",
       "        text-align: right;\n",
       "    }\n",
       "</style>\n",
       "<table border=\"1\" class=\"dataframe\">\n",
       "  <thead>\n",
       "    <tr style=\"text-align: right;\">\n",
       "      <th></th>\n",
       "      <th>totale</th>\n",
       "      <th>ARIMA</th>\n",
       "    </tr>\n",
       "  </thead>\n",
       "  <tbody>\n",
       "    <tr>\n",
       "      <th>8464</th>\n",
       "      <td>8691.87</td>\n",
       "      <td>8610.586303</td>\n",
       "    </tr>\n",
       "    <tr>\n",
       "      <th>2402</th>\n",
       "      <td>18639.34</td>\n",
       "      <td>10898.849504</td>\n",
       "    </tr>\n",
       "    <tr>\n",
       "      <th>14526</th>\n",
       "      <td>4741.64</td>\n",
       "      <td>10878.095072</td>\n",
       "    </tr>\n",
       "    <tr>\n",
       "      <th>5433</th>\n",
       "      <td>22688.36</td>\n",
       "      <td>9428.128030</td>\n",
       "    </tr>\n",
       "    <tr>\n",
       "      <th>5434</th>\n",
       "      <td>21600.85</td>\n",
       "      <td>10934.413496</td>\n",
       "    </tr>\n",
       "    <tr>\n",
       "      <th>14527</th>\n",
       "      <td>16479.89</td>\n",
       "      <td>10426.040289</td>\n",
       "    </tr>\n",
       "    <tr>\n",
       "      <th>11496</th>\n",
       "      <td>7543.50</td>\n",
       "      <td>9614.014511</td>\n",
       "    </tr>\n",
       "    <tr>\n",
       "      <th>2403</th>\n",
       "      <td>10286.42</td>\n",
       "      <td>11156.194113</td>\n",
       "    </tr>\n",
       "    <tr>\n",
       "      <th>11497</th>\n",
       "      <td>1526.06</td>\n",
       "      <td>9830.644249</td>\n",
       "    </tr>\n",
       "    <tr>\n",
       "      <th>2404</th>\n",
       "      <td>16703.66</td>\n",
       "      <td>10139.087892</td>\n",
       "    </tr>\n",
       "  </tbody>\n",
       "</table>\n",
       "</div>"
      ],
      "text/plain": [
       "         totale         ARIMA\n",
       "8464    8691.87   8610.586303\n",
       "2402   18639.34  10898.849504\n",
       "14526   4741.64  10878.095072\n",
       "5433   22688.36   9428.128030\n",
       "5434   21600.85  10934.413496\n",
       "14527  16479.89  10426.040289\n",
       "11496   7543.50   9614.014511\n",
       "2403   10286.42  11156.194113\n",
       "11497   1526.06   9830.644249\n",
       "2404   16703.66  10139.087892"
      ]
     },
     "execution_count": 26,
     "metadata": {},
     "output_type": "execute_result"
    }
   ],
   "source": [
    "test[\"ARIMA\"] = arima_model.predict(n_periods=len(test))\n",
    "test.head(10)"
   ]
  },
  {
   "cell_type": "code",
   "execution_count": 27,
   "metadata": {},
   "outputs": [],
   "source": [
    "def mean_absolute_percentage_error(y_true, y_pred): \n",
    "\n",
    "    y_true, y_pred = np.array(y_true), np.array(y_pred)\n",
    "\n",
    "    return np.mean(np.abs((y_true - y_pred) / y_true)) * 100"
   ]
  },
  {
   "cell_type": "code",
   "execution_count": 28,
   "metadata": {},
   "outputs": [
    {
     "name": "stdout",
     "output_type": "stream",
     "text": [
      "95.56753562235959\n"
     ]
    }
   ],
   "source": [
    "print(mean_absolute_percentage_error(test[\"totale\"], test[\"ARIMA\"]))"
   ]
  }
 ],
 "metadata": {
  "interpreter": {
   "hash": "e850eec08e9669c52e782ee28b71a07544c9e38f5af88e96f29f06e82864309f"
  },
  "kernelspec": {
   "display_name": "Python 3.10.1 64-bit",
   "language": "python",
   "name": "python3"
  },
  "language_info": {
   "codemirror_mode": {
    "name": "ipython",
    "version": 3
   },
   "file_extension": ".py",
   "mimetype": "text/x-python",
   "name": "python",
   "nbconvert_exporter": "python",
   "pygments_lexer": "ipython3",
   "version": "3.10.1"
  },
  "orig_nbformat": 4
 },
 "nbformat": 4,
 "nbformat_minor": 2
}
