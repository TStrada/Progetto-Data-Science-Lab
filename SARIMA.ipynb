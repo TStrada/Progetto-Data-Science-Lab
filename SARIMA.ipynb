{
 "cells": [
  {
   "cell_type": "code",
   "execution_count": 1,
   "metadata": {},
   "outputs": [
    {
     "name": "stdout",
     "output_type": "stream",
     "text": [
      "Requirement already satisfied: pmdarima in c:\\users\\ruben\\appdata\\local\\programs\\python\\python310\\lib\\site-packages (1.8.5)\n",
      "Requirement already satisfied: setuptools!=50.0.0,>=38.6.0 in c:\\users\\ruben\\appdata\\local\\programs\\python\\python310\\lib\\site-packages (from pmdarima) (58.1.0)\n",
      "Requirement already satisfied: pandas>=0.19 in c:\\users\\ruben\\appdata\\local\\programs\\python\\python310\\lib\\site-packages (from pmdarima) (1.3.5)\n",
      "Requirement already satisfied: joblib>=0.11 in c:\\users\\ruben\\appdata\\local\\programs\\python\\python310\\lib\\site-packages (from pmdarima) (1.1.0)\n",
      "Requirement already satisfied: scikit-learn>=0.22 in c:\\users\\ruben\\appdata\\local\\programs\\python\\python310\\lib\\site-packages (from pmdarima) (1.1.1)\n",
      "Requirement already satisfied: numpy>=1.19.3 in c:\\users\\ruben\\appdata\\local\\programs\\python\\python310\\lib\\site-packages (from pmdarima) (1.22.0)\n",
      "Requirement already satisfied: statsmodels!=0.12.0,>=0.11 in c:\\users\\ruben\\appdata\\local\\programs\\python\\python310\\lib\\site-packages (from pmdarima) (0.13.1)\n",
      "Requirement already satisfied: urllib3 in c:\\users\\ruben\\appdata\\local\\programs\\python\\python310\\lib\\site-packages (from pmdarima) (1.26.8)\n",
      "Requirement already satisfied: Cython!=0.29.18,>=0.29 in c:\\users\\ruben\\appdata\\local\\programs\\python\\python310\\lib\\site-packages (from pmdarima) (0.29.28)\n",
      "Requirement already satisfied: scipy>=1.3.2 in c:\\users\\ruben\\appdata\\local\\programs\\python\\python310\\lib\\site-packages (from pmdarima) (1.7.3)\n",
      "Requirement already satisfied: python-dateutil>=2.7.3 in c:\\users\\ruben\\appdata\\local\\programs\\python\\python310\\lib\\site-packages (from pandas>=0.19->pmdarima) (2.8.2)\n",
      "Requirement already satisfied: pytz>=2017.3 in c:\\users\\ruben\\appdata\\local\\programs\\python\\python310\\lib\\site-packages (from pandas>=0.19->pmdarima) (2021.3)\n",
      "Requirement already satisfied: six>=1.5 in c:\\users\\ruben\\appdata\\local\\programs\\python\\python310\\lib\\site-packages (from python-dateutil>=2.7.3->pandas>=0.19->pmdarima) (1.16.0)\n",
      "Requirement already satisfied: threadpoolctl>=2.0.0 in c:\\users\\ruben\\appdata\\local\\programs\\python\\python310\\lib\\site-packages (from scikit-learn>=0.22->pmdarima) (3.1.0)\n",
      "Requirement already satisfied: patsy>=0.5.2 in c:\\users\\ruben\\appdata\\local\\programs\\python\\python310\\lib\\site-packages (from statsmodels!=0.12.0,>=0.11->pmdarima) (0.5.2)\n"
     ]
    },
    {
     "name": "stderr",
     "output_type": "stream",
     "text": [
      "WARNING: You are using pip version 21.2.4; however, version 22.1.1 is available.\n",
      "You should consider upgrading via the 'C:\\Users\\Ruben\\AppData\\Local\\Programs\\Python\\Python310\\python.exe -m pip install --upgrade pip' command.\n"
     ]
    }
   ],
   "source": [
    "! pip install pmdarima"
   ]
  },
  {
   "cell_type": "code",
   "execution_count": 1,
   "metadata": {},
   "outputs": [],
   "source": [
    "import pandas as pd\n",
    "import pmdarima as pmd\n",
    "import numpy as np\n",
    "from pmdarima.model_selection import train_test_split"
   ]
  },
  {
   "cell_type": "markdown",
   "metadata": {},
   "source": [
    "Import dataset casual"
   ]
  },
  {
   "cell_type": "code",
   "execution_count": 64,
   "metadata": {},
   "outputs": [],
   "source": [
    "dataset_year_casual = pd.read_csv('./data/casual_annuale.csv')\n",
    "dataset_year_casual = dataset_year_casual.sort_values(by='year')"
   ]
  },
  {
   "cell_type": "code",
   "execution_count": 65,
   "metadata": {},
   "outputs": [],
   "source": [
    "dataset_trim_casual = pd.read_csv('./data/casual_trimestrale.csv')\n",
    "dataset_trim_casual = dataset_trim_casual.sort_values(by='year')"
   ]
  },
  {
   "cell_type": "code",
   "execution_count": 10,
   "metadata": {},
   "outputs": [],
   "source": [
    "dataset_settimanale_casual = pd.read_csv('./data/casual_settimanale.csv')\n",
    "dataset_settimanale_casual = dataset_settimanale_casual.sort_values(by='year')\n",
    "dataset_settimanale_casual = dataset_settimanale_casual[dataset_settimanale_casual['revenue'] != 0]"
   ]
  },
  {
   "cell_type": "code",
   "execution_count": 69,
   "metadata": {},
   "outputs": [],
   "source": [
    "dataset_mensile_casual =  pd.read_csv('./data/casual_mensile.csv')\n",
    "dataset_mensile_casual = dataset_mensile_casual.sort_values(by='year')"
   ]
  },
  {
   "cell_type": "markdown",
   "metadata": {},
   "source": [
    "Import dataset pesca"
   ]
  },
  {
   "cell_type": "code",
   "execution_count": 3,
   "metadata": {},
   "outputs": [],
   "source": [
    "dataset_year_pesca = pd.read_csv('./data/casual_annuale.csv')\n",
    "dataset_year_pesca = dataset_year_pesca.sort_values(by='year')"
   ]
  },
  {
   "cell_type": "code",
   "execution_count": 63,
   "metadata": {},
   "outputs": [],
   "source": [
    "dataset_trim_pesca = pd.read_csv('./data/pesca_trimestrale.csv')\n",
    "dataset_trim_pesca = dataset_trim_pesca.sort_values(by='year')"
   ]
  },
  {
   "cell_type": "code",
   "execution_count": 52,
   "metadata": {},
   "outputs": [],
   "source": [
    "dataset_settimanale_pesca = pd.read_csv('./data/pesca_settimanale.csv')\n",
    "dataset_settimanale_pesca = dataset_settimanale_pesca.sort_values(by='year')\n",
    "dataset_settimanale_pesca = dataset_settimanale_pesca[dataset_settimanale_pesca['revenue'] != 0]"
   ]
  },
  {
   "cell_type": "code",
   "execution_count": 10,
   "metadata": {},
   "outputs": [],
   "source": [
    "dataset_mensile_pesca =  pd.read_csv('./data/pesca_mensile.csv')\n",
    "dataset_mensile_pesca = dataset_mensile_pesca.sort_values(by='Datetime')"
   ]
  },
  {
   "cell_type": "markdown",
   "metadata": {},
   "source": [
    "import dataset calcio"
   ]
  },
  {
   "cell_type": "code",
   "execution_count": 5,
   "metadata": {},
   "outputs": [],
   "source": [
    "dataset_trim_calcio = pd.read_csv('./data/calcio_trimestrale.csv')\n",
    "dataset_trim_calcio = dataset_trim_calcio.sort_values(by='year')"
   ]
  },
  {
   "cell_type": "code",
   "execution_count": 6,
   "metadata": {},
   "outputs": [],
   "source": [
    "dataset_year_calcio = pd.read_csv('./data/calcio_annuale.csv')\n",
    "dataset_year_calcio = dataset_year_calcio.sort_values(by='year')"
   ]
  },
  {
   "cell_type": "code",
   "execution_count": 7,
   "metadata": {},
   "outputs": [],
   "source": [
    "dataset_mensile_calcio = pd.read_csv('./data/calcio_mensile.csv')\n",
    "dataset_mensile_calcio = dataset_mensile_calcio.sort_values(by='Datetime')"
   ]
  },
  {
   "cell_type": "code",
   "execution_count": 2,
   "metadata": {},
   "outputs": [],
   "source": [
    "dataset_settimanale_calcio = pd.read_csv('./data/calcio_settimanale.csv')\n",
    "dataset_settimanale_calcio = dataset_settimanale_calcio.sort_values(by='year')\n",
    "dataset_settimanale_calcio = dataset_settimanale_calcio[dataset_settimanale_calcio['revenue'] != 0]"
   ]
  },
  {
   "cell_type": "markdown",
   "metadata": {},
   "source": [
    "splitting train test casual"
   ]
  },
  {
   "cell_type": "code",
   "execution_count": 70,
   "metadata": {},
   "outputs": [],
   "source": [
    "train_mensile_casual, test_mensile_casual= train_test_split(dataset_mensile_casual, train_size=0.8)"
   ]
  },
  {
   "cell_type": "code",
   "execution_count": 71,
   "metadata": {},
   "outputs": [],
   "source": [
    "train_year_casual, test_year_casual = train_test_split(dataset_year_casual, train_size=0.8)\n"
   ]
  },
  {
   "cell_type": "code",
   "execution_count": 72,
   "metadata": {},
   "outputs": [],
   "source": [
    "train_trim_casual, test_trim_casual = train_test_split(dataset_trim_casual, train_size=0.8)\n"
   ]
  },
  {
   "cell_type": "code",
   "execution_count": 11,
   "metadata": {},
   "outputs": [],
   "source": [
    "train_settimanale_casual, test_settimanale_casual = train_test_split(dataset_settimanale_casual, train_size=0.8)\n"
   ]
  },
  {
   "cell_type": "markdown",
   "metadata": {},
   "source": [
    "splitting train test pesca"
   ]
  },
  {
   "cell_type": "code",
   "execution_count": 13,
   "metadata": {},
   "outputs": [],
   "source": [
    "train_mensile_pesca, test_mensile_pesca= train_test_split(dataset_mensile_pesca, train_size=0.8)"
   ]
  },
  {
   "cell_type": "code",
   "execution_count": 14,
   "metadata": {},
   "outputs": [],
   "source": [
    "train_year_pesca, test_year_pesca = train_test_split(dataset_year_pesca, train_size=0.8)\n"
   ]
  },
  {
   "cell_type": "code",
   "execution_count": 18,
   "metadata": {},
   "outputs": [],
   "source": [
    "train_trim_pesca, test_trim_pesca = train_test_split(dataset_trim_pesca, train_size=0.8)\n"
   ]
  },
  {
   "cell_type": "code",
   "execution_count": 54,
   "metadata": {},
   "outputs": [],
   "source": [
    "train_settimanale_pesca, test_settimanale_pesca = train_test_split(dataset_settimanale_pesca, train_size=0.8)\n"
   ]
  },
  {
   "cell_type": "markdown",
   "metadata": {},
   "source": [
    "splitting train test calcio"
   ]
  },
  {
   "cell_type": "code",
   "execution_count": 15,
   "metadata": {},
   "outputs": [],
   "source": [
    "train_mensile_calcio, test_mensile_calcio= train_test_split(dataset_mensile_calcio, train_size=0.8)\n"
   ]
  },
  {
   "cell_type": "code",
   "execution_count": 16,
   "metadata": {},
   "outputs": [],
   "source": [
    "train_trim_calcio, test_trim_calcio = train_test_split(dataset_trim_calcio, train_size=0.8)\n"
   ]
  },
  {
   "cell_type": "code",
   "execution_count": 17,
   "metadata": {},
   "outputs": [],
   "source": [
    "train_year_calcio, test_year_calcio = train_test_split(dataset_year_calcio, train_size=0.8)\n"
   ]
  },
  {
   "cell_type": "code",
   "execution_count": 3,
   "metadata": {},
   "outputs": [],
   "source": [
    "train_settimanale_calcio, test_settimanale_calcio = train_test_split(dataset_settimanale_calcio, train_size=0.8)\n"
   ]
  },
  {
   "cell_type": "markdown",
   "metadata": {},
   "source": [
    "Creazione modelli casual"
   ]
  },
  {
   "cell_type": "code",
   "execution_count": 75,
   "metadata": {},
   "outputs": [
    {
     "name": "stdout",
     "output_type": "stream",
     "text": [
      "Performing stepwise search to minimize aic\n",
      " ARIMA(0,1,1)(0,0,1)[12] intercept   : AIC=2103.138, Time=0.05 sec\n",
      " ARIMA(0,1,0)(0,0,0)[12] intercept   : AIC=2132.829, Time=0.01 sec\n",
      " ARIMA(1,1,0)(1,0,0)[12] intercept   : AIC=2112.541, Time=0.04 sec\n",
      " ARIMA(0,1,0)(0,0,0)[12]             : AIC=2130.845, Time=0.00 sec\n",
      " ARIMA(0,1,1)(0,0,0)[12] intercept   : AIC=2107.528, Time=0.02 sec\n",
      " ARIMA(0,1,1)(1,0,1)[12] intercept   : AIC=2101.315, Time=0.07 sec\n",
      " ARIMA(0,1,1)(1,0,0)[12] intercept   : AIC=2100.329, Time=0.04 sec\n",
      " ARIMA(0,1,1)(2,0,0)[12] intercept   : AIC=2100.420, Time=0.09 sec\n",
      " ARIMA(0,1,1)(2,0,1)[12] intercept   : AIC=2102.169, Time=0.14 sec\n",
      " ARIMA(0,1,0)(1,0,0)[12] intercept   : AIC=2115.614, Time=0.03 sec\n",
      " ARIMA(1,1,1)(1,0,0)[12] intercept   : AIC=2098.065, Time=0.06 sec\n",
      " ARIMA(1,1,1)(0,0,0)[12] intercept   : AIC=2108.373, Time=0.02 sec\n",
      " ARIMA(1,1,1)(2,0,0)[12] intercept   : AIC=2097.701, Time=0.12 sec\n",
      " ARIMA(1,1,1)(3,0,0)[12] intercept   : AIC=2099.144, Time=0.41 sec\n",
      " ARIMA(1,1,1)(2,0,1)[12] intercept   : AIC=2098.957, Time=0.21 sec\n",
      " ARIMA(1,1,1)(1,0,1)[12] intercept   : AIC=2099.540, Time=0.10 sec\n",
      " ARIMA(1,1,1)(3,0,1)[12] intercept   : AIC=inf, Time=1.44 sec\n",
      " ARIMA(1,1,0)(2,0,0)[12] intercept   : AIC=2109.937, Time=0.09 sec\n",
      " ARIMA(2,1,1)(2,0,0)[12] intercept   : AIC=2097.807, Time=0.17 sec\n",
      " ARIMA(1,1,2)(2,0,0)[12] intercept   : AIC=2096.444, Time=0.17 sec\n",
      " ARIMA(1,1,2)(1,0,0)[12] intercept   : AIC=2097.157, Time=0.09 sec\n",
      " ARIMA(1,1,2)(3,0,0)[12] intercept   : AIC=2098.138, Time=0.45 sec\n",
      " ARIMA(1,1,2)(2,0,1)[12] intercept   : AIC=2098.175, Time=0.18 sec\n",
      " ARIMA(1,1,2)(1,0,1)[12] intercept   : AIC=2097.979, Time=0.12 sec\n",
      " ARIMA(1,1,2)(3,0,1)[12] intercept   : AIC=2100.113, Time=0.88 sec\n",
      " ARIMA(0,1,2)(2,0,0)[12] intercept   : AIC=2094.736, Time=0.09 sec\n",
      " ARIMA(0,1,2)(1,0,0)[12] intercept   : AIC=2095.334, Time=0.05 sec\n",
      " ARIMA(0,1,2)(3,0,0)[12] intercept   : AIC=2096.480, Time=0.34 sec\n",
      " ARIMA(0,1,2)(2,0,1)[12] intercept   : AIC=2096.576, Time=0.16 sec\n",
      " ARIMA(0,1,2)(1,0,1)[12] intercept   : AIC=2096.036, Time=0.08 sec\n",
      " ARIMA(0,1,2)(3,0,1)[12] intercept   : AIC=2098.308, Time=0.56 sec\n",
      " ARIMA(0,1,3)(2,0,0)[12] intercept   : AIC=2101.103, Time=0.18 sec\n",
      " ARIMA(1,1,3)(2,0,0)[12] intercept   : AIC=2094.541, Time=0.23 sec\n",
      " ARIMA(1,1,3)(1,0,0)[12] intercept   : AIC=2094.430, Time=0.16 sec\n",
      " ARIMA(1,1,3)(0,0,0)[12] intercept   : AIC=2100.779, Time=0.10 sec\n",
      " ARIMA(1,1,3)(1,0,1)[12] intercept   : AIC=2095.256, Time=0.20 sec\n",
      " ARIMA(1,1,3)(0,0,1)[12] intercept   : AIC=2097.093, Time=0.16 sec\n",
      " ARIMA(1,1,3)(2,0,1)[12] intercept   : AIC=2096.526, Time=0.37 sec\n",
      " ARIMA(0,1,3)(1,0,0)[12] intercept   : AIC=2101.106, Time=0.10 sec\n",
      " ARIMA(2,1,3)(1,0,0)[12] intercept   : AIC=2094.521, Time=0.21 sec\n",
      " ARIMA(1,1,4)(1,0,0)[12] intercept   : AIC=2095.899, Time=0.14 sec\n",
      " ARIMA(0,1,4)(1,0,0)[12] intercept   : AIC=2101.285, Time=0.09 sec\n",
      " ARIMA(2,1,2)(1,0,0)[12] intercept   : AIC=inf, Time=0.27 sec\n",
      " ARIMA(2,1,4)(1,0,0)[12] intercept   : AIC=2097.051, Time=0.27 sec\n",
      " ARIMA(1,1,3)(1,0,0)[12]             : AIC=2092.424, Time=0.13 sec\n",
      " ARIMA(1,1,3)(0,0,0)[12]             : AIC=2098.777, Time=0.08 sec\n",
      " ARIMA(1,1,3)(2,0,0)[12]             : AIC=2092.536, Time=0.21 sec\n",
      " ARIMA(1,1,3)(1,0,1)[12]             : AIC=2093.247, Time=0.18 sec\n",
      " ARIMA(1,1,3)(0,0,1)[12]             : AIC=2095.090, Time=0.14 sec\n",
      " ARIMA(1,1,3)(2,0,1)[12]             : AIC=2094.520, Time=0.35 sec\n",
      " ARIMA(0,1,3)(1,0,0)[12]             : AIC=2099.000, Time=0.12 sec\n",
      " ARIMA(1,1,2)(1,0,0)[12]             : AIC=2095.048, Time=0.09 sec\n",
      " ARIMA(2,1,3)(1,0,0)[12]             : AIC=2092.519, Time=0.18 sec\n",
      " ARIMA(1,1,4)(1,0,0)[12]             : AIC=2093.510, Time=0.12 sec\n",
      " ARIMA(0,1,2)(1,0,0)[12]             : AIC=2093.483, Time=0.05 sec\n",
      " ARIMA(0,1,4)(1,0,0)[12]             : AIC=2098.875, Time=0.10 sec\n",
      " ARIMA(2,1,2)(1,0,0)[12]             : AIC=inf, Time=0.28 sec\n",
      " ARIMA(2,1,4)(1,0,0)[12]             : AIC=2094.287, Time=0.26 sec\n",
      "\n",
      "Best model:  ARIMA(1,1,3)(1,0,0)[12]          \n",
      "Total fit time: 11.084 seconds\n"
     ]
    }
   ],
   "source": [
    "arima_model_mensile_casual = pmd.auto_arima(train_mensile_casual[\"revenue\"], start_p=0, start_q=1, start_P=0, start_Q=1,max_p=4,max_q=4, max_P=4, max_Q=4, test=\"adf\", seasonal=True,m=12,trace=True)"
   ]
  },
  {
   "cell_type": "code",
   "execution_count": 77,
   "metadata": {},
   "outputs": [
    {
     "name": "stdout",
     "output_type": "stream",
     "text": [
      "Performing stepwise search to minimize aic\n",
      " ARIMA(0,1,1)(0,0,0)[0] intercept   : AIC=inf, Time=0.02 sec\n",
      " ARIMA(0,1,0)(0,0,0)[0] intercept   : AIC=189.210, Time=0.00 sec\n",
      " ARIMA(1,1,0)(0,0,0)[0] intercept   : AIC=191.858, Time=0.01 sec\n",
      " ARIMA(0,1,0)(0,0,0)[0]             : AIC=187.296, Time=0.00 sec\n",
      " ARIMA(1,1,1)(0,0,0)[0] intercept   : AIC=inf, Time=0.09 sec\n",
      "\n",
      "Best model:  ARIMA(0,1,0)(0,0,0)[0]          \n",
      "Total fit time: 0.138 seconds\n"
     ]
    },
    {
     "name": "stderr",
     "output_type": "stream",
     "text": [
      "c:\\Users\\Ruben\\AppData\\Local\\Programs\\Python\\Python310\\lib\\site-packages\\statsmodels\\regression\\linear_model.py:1673: RuntimeWarning: divide by zero encountered in double_scalars\n",
      "  return np.dot(wresid, wresid) / self.df_resid\n"
     ]
    }
   ],
   "source": [
    "arima_model_year_casual = pmd.auto_arima(train_year_casual[\"revenue\"], start_p=0, start_q=1, start_P=0, max_d=1, max_D=1, start_Q=1,max_p=4,max_q=4, max_P=4, max_Q=4, test=\"adf\", seasonal=True,m=1,trace=True)"
   ]
  },
  {
   "cell_type": "code",
   "execution_count": 79,
   "metadata": {},
   "outputs": [
    {
     "data": {
      "text/html": [
       "<div>\n",
       "<style scoped>\n",
       "    .dataframe tbody tr th:only-of-type {\n",
       "        vertical-align: middle;\n",
       "    }\n",
       "\n",
       "    .dataframe tbody tr th {\n",
       "        vertical-align: top;\n",
       "    }\n",
       "\n",
       "    .dataframe thead th {\n",
       "        text-align: right;\n",
       "    }\n",
       "</style>\n",
       "<table border=\"1\" class=\"dataframe\">\n",
       "  <thead>\n",
       "    <tr style=\"text-align: right;\">\n",
       "      <th></th>\n",
       "      <th>Unnamed: 0</th>\n",
       "      <th>year</th>\n",
       "      <th>revenue</th>\n",
       "    </tr>\n",
       "  </thead>\n",
       "  <tbody>\n",
       "    <tr>\n",
       "      <th>7</th>\n",
       "      <td>7</td>\n",
       "      <td>2021</td>\n",
       "      <td>2902705.33</td>\n",
       "    </tr>\n",
       "    <tr>\n",
       "      <th>8</th>\n",
       "      <td>8</td>\n",
       "      <td>2022</td>\n",
       "      <td>570076.92</td>\n",
       "    </tr>\n",
       "  </tbody>\n",
       "</table>\n",
       "</div>"
      ],
      "text/plain": [
       "   Unnamed: 0  year     revenue\n",
       "7           7  2021  2902705.33\n",
       "8           8  2022   570076.92"
      ]
     },
     "execution_count": 79,
     "metadata": {},
     "output_type": "execute_result"
    }
   ],
   "source": [
    "test_year_casual"
   ]
  },
  {
   "cell_type": "code",
   "execution_count": 80,
   "metadata": {},
   "outputs": [
    {
     "name": "stdout",
     "output_type": "stream",
     "text": [
      "Performing stepwise search to minimize aic\n",
      " ARIMA(0,2,0)(0,0,0)[4]             : AIC=716.222, Time=0.01 sec\n",
      " ARIMA(1,2,0)(1,0,0)[4]             : AIC=699.759, Time=0.02 sec\n",
      " ARIMA(0,2,1)(0,0,1)[4]             : AIC=702.427, Time=0.03 sec\n",
      " ARIMA(1,2,0)(0,0,0)[4]             : AIC=698.350, Time=0.01 sec\n",
      " ARIMA(1,2,0)(0,0,1)[4]             : AIC=699.290, Time=0.04 sec\n",
      " ARIMA(1,2,0)(1,0,1)[4]             : AIC=701.024, Time=0.04 sec\n",
      " ARIMA(2,2,0)(0,0,0)[4]             : AIC=693.653, Time=0.01 sec\n",
      " ARIMA(2,2,0)(1,0,0)[4]             : AIC=694.726, Time=0.03 sec\n",
      " ARIMA(2,2,0)(0,0,1)[4]             : AIC=693.229, Time=0.03 sec\n",
      " ARIMA(2,2,0)(1,0,1)[4]             : AIC=695.222, Time=0.05 sec\n",
      " ARIMA(2,2,0)(0,0,2)[4]             : AIC=695.194, Time=0.08 sec\n",
      " ARIMA(2,2,0)(1,0,2)[4]             : AIC=696.186, Time=0.09 sec\n",
      " ARIMA(3,2,0)(0,0,1)[4]             : AIC=695.238, Time=0.04 sec\n",
      " ARIMA(2,2,1)(0,0,1)[4]             : AIC=695.338, Time=0.04 sec\n",
      " ARIMA(1,2,1)(0,0,1)[4]             : AIC=695.760, Time=0.02 sec\n",
      " ARIMA(3,2,1)(0,0,1)[4]             : AIC=696.446, Time=0.08 sec\n",
      " ARIMA(2,2,0)(0,0,1)[4] intercept   : AIC=695.212, Time=0.04 sec\n",
      "\n",
      "Best model:  ARIMA(2,2,0)(0,0,1)[4]          \n",
      "Total fit time: 0.683 seconds\n"
     ]
    }
   ],
   "source": [
    "arima_model_trim_casual = pmd.auto_arima(train_trim_casual[\"revenue\"], start_p=0, start_q=0, start_P=0, start_Q=0, test=\"adf\", seasonal=True,m=4,trace=True)"
   ]
  },
  {
   "cell_type": "code",
   "execution_count": 12,
   "metadata": {},
   "outputs": [
    {
     "name": "stdout",
     "output_type": "stream",
     "text": [
      "Performing stepwise search to minimize aic\n",
      " ARIMA(0,0,0)(0,0,0)[4] intercept   : AIC=8388.059, Time=0.01 sec\n",
      " ARIMA(1,0,0)(1,0,0)[4] intercept   : AIC=8238.066, Time=0.06 sec\n",
      " ARIMA(0,0,1)(0,0,1)[4] intercept   : AIC=8262.893, Time=0.05 sec\n",
      " ARIMA(0,0,0)(0,0,0)[4]             : AIC=8890.350, Time=0.01 sec\n",
      " ARIMA(1,0,0)(0,0,0)[4] intercept   : AIC=8236.162, Time=0.02 sec\n",
      " ARIMA(1,0,0)(0,0,1)[4] intercept   : AIC=8238.033, Time=0.04 sec\n",
      " ARIMA(1,0,0)(1,0,1)[4] intercept   : AIC=8240.032, Time=0.16 sec\n",
      " ARIMA(2,0,0)(0,0,0)[4] intercept   : AIC=8236.598, Time=0.03 sec\n",
      " ARIMA(1,0,1)(0,0,0)[4] intercept   : AIC=8236.276, Time=0.03 sec\n",
      " ARIMA(0,0,1)(0,0,0)[4] intercept   : AIC=8263.932, Time=0.02 sec\n",
      " ARIMA(2,0,1)(0,0,0)[4] intercept   : AIC=8239.119, Time=0.10 sec\n",
      " ARIMA(1,0,0)(0,0,0)[4]             : AIC=8294.010, Time=0.01 sec\n",
      "\n",
      "Best model:  ARIMA(1,0,0)(0,0,0)[4] intercept\n",
      "Total fit time: 0.553 seconds\n"
     ]
    }
   ],
   "source": [
    "arima_model_settimanale_casual = pmd.auto_arima(train_settimanale_casual[\"revenue\"], start_p=0, start_q=0, start_P=0, start_Q=0, test=\"adf\", seasonal=True,m=4,trace=True)"
   ]
  },
  {
   "cell_type": "markdown",
   "metadata": {},
   "source": [
    "Creazione modelli pesca"
   ]
  },
  {
   "cell_type": "code",
   "execution_count": 21,
   "metadata": {},
   "outputs": [
    {
     "name": "stdout",
     "output_type": "stream",
     "text": [
      "Performing stepwise search to minimize aic\n",
      " ARIMA(0,1,1)(0,0,1)[12] intercept   : AIC=2062.515, Time=0.06 sec\n",
      " ARIMA(0,1,0)(0,0,0)[12] intercept   : AIC=2067.761, Time=0.01 sec\n",
      " ARIMA(1,1,0)(1,0,0)[12] intercept   : AIC=2060.760, Time=0.04 sec\n",
      " ARIMA(0,1,0)(0,0,0)[12]             : AIC=2065.996, Time=0.00 sec\n",
      " ARIMA(1,1,0)(0,0,0)[12] intercept   : AIC=2067.805, Time=0.01 sec\n",
      " ARIMA(1,1,0)(2,0,0)[12] intercept   : AIC=2062.304, Time=0.07 sec\n",
      " ARIMA(1,1,0)(1,0,1)[12] intercept   : AIC=2062.321, Time=0.08 sec\n",
      " ARIMA(1,1,0)(0,0,1)[12] intercept   : AIC=2062.513, Time=0.04 sec\n",
      " ARIMA(1,1,0)(2,0,1)[12] intercept   : AIC=2064.273, Time=0.14 sec\n",
      " ARIMA(0,1,0)(1,0,0)[12] intercept   : AIC=2059.244, Time=0.03 sec\n",
      " ARIMA(0,1,0)(2,0,0)[12] intercept   : AIC=2060.780, Time=0.06 sec\n",
      " ARIMA(0,1,0)(1,0,1)[12] intercept   : AIC=2060.785, Time=0.05 sec\n",
      " ARIMA(0,1,0)(0,0,1)[12] intercept   : AIC=2061.149, Time=0.03 sec\n",
      " ARIMA(0,1,0)(2,0,1)[12] intercept   : AIC=2062.744, Time=0.10 sec\n",
      " ARIMA(0,1,1)(1,0,0)[12] intercept   : AIC=2060.915, Time=0.04 sec\n",
      " ARIMA(1,1,1)(1,0,0)[12] intercept   : AIC=2062.264, Time=0.06 sec\n",
      " ARIMA(0,1,0)(1,0,0)[12]             : AIC=2056.847, Time=0.02 sec\n",
      " ARIMA(0,1,0)(2,0,0)[12]             : AIC=2060.298, Time=0.05 sec\n",
      " ARIMA(0,1,0)(1,0,1)[12]             : AIC=2064.913, Time=0.04 sec\n",
      " ARIMA(0,1,0)(0,0,1)[12]             : AIC=2066.874, Time=0.02 sec\n",
      " ARIMA(0,1,0)(2,0,1)[12]             : AIC=2066.509, Time=0.10 sec\n",
      " ARIMA(1,1,0)(1,0,0)[12]             : AIC=2058.906, Time=0.03 sec\n",
      " ARIMA(0,1,1)(1,0,0)[12]             : AIC=2059.046, Time=0.03 sec\n",
      " ARIMA(1,1,1)(1,0,0)[12]             : AIC=2056.841, Time=0.06 sec\n",
      " ARIMA(1,1,1)(0,0,0)[12]             : AIC=2064.582, Time=0.02 sec\n",
      " ARIMA(1,1,1)(2,0,0)[12]             : AIC=2058.634, Time=0.10 sec\n",
      " ARIMA(1,1,1)(1,0,1)[12]             : AIC=2058.567, Time=0.09 sec\n",
      " ARIMA(1,1,1)(0,0,1)[12]             : AIC=2058.437, Time=0.06 sec\n",
      " ARIMA(1,1,1)(2,0,1)[12]             : AIC=2060.558, Time=0.25 sec\n",
      " ARIMA(2,1,1)(1,0,0)[12]             : AIC=2058.046, Time=0.08 sec\n",
      " ARIMA(1,1,2)(1,0,0)[12]             : AIC=2056.649, Time=0.08 sec\n",
      " ARIMA(1,1,2)(0,0,0)[12]             : AIC=2066.403, Time=0.04 sec\n",
      " ARIMA(1,1,2)(2,0,0)[12]             : AIC=2058.435, Time=0.15 sec\n",
      " ARIMA(1,1,2)(1,0,1)[12]             : AIC=2058.331, Time=0.13 sec\n",
      " ARIMA(1,1,2)(0,0,1)[12]             : AIC=2058.548, Time=0.08 sec\n",
      " ARIMA(1,1,2)(2,0,1)[12]             : AIC=2060.300, Time=0.26 sec\n",
      " ARIMA(0,1,2)(1,0,0)[12]             : AIC=2058.190, Time=0.03 sec\n",
      " ARIMA(2,1,2)(1,0,0)[12]             : AIC=2058.280, Time=0.13 sec\n",
      " ARIMA(1,1,3)(1,0,0)[12]             : AIC=2061.900, Time=0.15 sec\n",
      " ARIMA(0,1,3)(1,0,0)[12]             : AIC=2061.011, Time=0.05 sec\n",
      " ARIMA(2,1,3)(1,0,0)[12]             : AIC=2061.969, Time=0.34 sec\n",
      " ARIMA(1,1,2)(1,0,0)[12] intercept   : AIC=2062.523, Time=0.09 sec\n",
      "\n",
      "Best model:  ARIMA(1,1,2)(1,0,0)[12]          \n",
      "Total fit time: 3.344 seconds\n"
     ]
    }
   ],
   "source": [
    "arima_model_mensile_pesca = pmd.auto_arima(train_mensile_pesca[\"totale\"], start_p=0, start_q=1, start_P=0, start_Q=1,max_p=4,max_q=4, max_P=4, max_Q=4, test=\"adf\", seasonal=True,m=12,trace=True)"
   ]
  },
  {
   "cell_type": "code",
   "execution_count": 22,
   "metadata": {},
   "outputs": [
    {
     "name": "stdout",
     "output_type": "stream",
     "text": [
      "Performing stepwise search to minimize aic\n",
      " ARIMA(0,0,1)(0,0,0)[0] intercept   : AIC=inf, Time=0.03 sec\n",
      " ARIMA(0,0,0)(0,0,0)[0] intercept   : AIC=229.495, Time=0.00 sec\n",
      " ARIMA(1,0,0)(0,0,0)[0] intercept   : AIC=240.441, Time=0.01 sec\n",
      " ARIMA(0,0,0)(0,0,0)[0]             : AIC=242.512, Time=0.00 sec\n",
      " ARIMA(1,0,1)(0,0,0)[0] intercept   : AIC=inf, Time=0.06 sec\n",
      "\n",
      "Best model:  ARIMA(0,0,0)(0,0,0)[0] intercept\n",
      "Total fit time: 0.109 seconds\n"
     ]
    }
   ],
   "source": [
    "arima_model_year = pmd.auto_arima(train_year_pesca[\"revenue\"], start_p=0, start_q=1, start_P=0, start_Q=1,max_p=4,max_q=4, max_P=4, max_Q=4, test=\"adf\", seasonal=True,m=1,trace=True)"
   ]
  },
  {
   "cell_type": "code",
   "execution_count": 23,
   "metadata": {},
   "outputs": [
    {
     "name": "stdout",
     "output_type": "stream",
     "text": [
      "Performing stepwise search to minimize aic\n",
      " ARIMA(0,2,0)(0,0,0)[4]             : AIC=681.628, Time=0.00 sec\n",
      " ARIMA(1,2,0)(1,0,0)[4]             : AIC=682.656, Time=0.02 sec\n",
      " ARIMA(0,2,1)(0,0,1)[4]             : AIC=684.171, Time=0.02 sec\n",
      " ARIMA(0,2,0)(1,0,0)[4]             : AIC=680.391, Time=0.01 sec\n",
      " ARIMA(0,2,0)(2,0,0)[4]             : AIC=682.446, Time=0.03 sec\n",
      " ARIMA(0,2,0)(1,0,1)[4]             : AIC=682.331, Time=0.02 sec\n",
      " ARIMA(0,2,0)(0,0,1)[4]             : AIC=685.449, Time=0.01 sec\n",
      " ARIMA(0,2,0)(2,0,1)[4]             : AIC=683.858, Time=0.04 sec\n",
      " ARIMA(0,2,1)(1,0,0)[4]             : AIC=683.156, Time=0.02 sec\n",
      " ARIMA(1,2,1)(1,0,0)[4]             : AIC=685.152, Time=0.04 sec\n",
      " ARIMA(0,2,0)(1,0,0)[4] intercept   : AIC=681.868, Time=0.02 sec\n",
      "\n",
      "Best model:  ARIMA(0,2,0)(1,0,0)[4]          \n",
      "Total fit time: 0.243 seconds\n"
     ]
    }
   ],
   "source": [
    "arima_model_trim_pesca = pmd.auto_arima(train_trim_pesca[\"revenue\"], start_p=0, start_q=0, start_P=0, start_Q=0, test=\"adf\", seasonal=True,m=4,trace=True)"
   ]
  },
  {
   "cell_type": "code",
   "execution_count": 56,
   "metadata": {},
   "outputs": [
    {
     "name": "stdout",
     "output_type": "stream",
     "text": [
      "Performing stepwise search to minimize aic\n",
      " ARIMA(0,1,0)(0,0,0)[4] intercept   : AIC=8151.999, Time=0.01 sec\n",
      " ARIMA(1,1,0)(1,0,0)[4] intercept   : AIC=8108.957, Time=0.04 sec\n",
      " ARIMA(0,1,1)(0,0,1)[4] intercept   : AIC=8066.109, Time=0.05 sec\n",
      " ARIMA(0,1,0)(0,0,0)[4]             : AIC=8150.021, Time=0.01 sec\n",
      " ARIMA(0,1,1)(0,0,0)[4] intercept   : AIC=8065.372, Time=0.02 sec\n",
      " ARIMA(0,1,1)(1,0,0)[4] intercept   : AIC=8066.095, Time=0.05 sec\n",
      " ARIMA(0,1,1)(1,0,1)[4] intercept   : AIC=8068.093, Time=0.12 sec\n",
      " ARIMA(1,1,1)(0,0,0)[4] intercept   : AIC=8058.151, Time=0.05 sec\n",
      " ARIMA(1,1,1)(1,0,0)[4] intercept   : AIC=8054.305, Time=0.09 sec\n",
      " ARIMA(1,1,1)(2,0,0)[4] intercept   : AIC=8056.305, Time=0.15 sec\n",
      " ARIMA(1,1,1)(1,0,1)[4] intercept   : AIC=8055.477, Time=0.15 sec\n",
      " ARIMA(1,1,1)(0,0,1)[4] intercept   : AIC=8053.640, Time=0.10 sec\n",
      " ARIMA(1,1,1)(0,0,2)[4] intercept   : AIC=8055.451, Time=0.16 sec\n",
      " ARIMA(1,1,1)(1,0,2)[4] intercept   : AIC=8055.330, Time=0.48 sec\n",
      " ARIMA(1,1,0)(0,0,1)[4] intercept   : AIC=8109.158, Time=0.04 sec\n",
      " ARIMA(2,1,1)(0,0,1)[4] intercept   : AIC=8055.560, Time=0.12 sec\n",
      " ARIMA(1,1,2)(0,0,1)[4] intercept   : AIC=8056.810, Time=0.11 sec\n",
      " ARIMA(0,1,0)(0,0,1)[4] intercept   : AIC=8146.054, Time=0.03 sec\n",
      " ARIMA(0,1,2)(0,0,1)[4] intercept   : AIC=8055.595, Time=0.07 sec\n",
      " ARIMA(2,1,0)(0,0,1)[4] intercept   : AIC=8096.040, Time=0.05 sec\n",
      " ARIMA(2,1,2)(0,0,1)[4] intercept   : AIC=8056.376, Time=0.20 sec\n",
      " ARIMA(1,1,1)(0,0,1)[4]             : AIC=8051.382, Time=0.07 sec\n",
      " ARIMA(1,1,1)(0,0,0)[4]             : AIC=8056.172, Time=0.03 sec\n",
      " ARIMA(1,1,1)(1,0,1)[4]             : AIC=8052.982, Time=0.12 sec\n",
      " ARIMA(1,1,1)(0,0,2)[4]             : AIC=8053.152, Time=0.14 sec\n",
      " ARIMA(1,1,1)(1,0,0)[4]             : AIC=8051.044, Time=0.08 sec\n",
      " ARIMA(1,1,1)(2,0,0)[4]             : AIC=8052.997, Time=0.14 sec\n",
      " ARIMA(1,1,1)(2,0,1)[4]             : AIC=8054.977, Time=0.22 sec\n",
      " ARIMA(0,1,1)(1,0,0)[4]             : AIC=8064.384, Time=0.04 sec\n",
      " ARIMA(1,1,0)(1,0,0)[4]             : AIC=8106.988, Time=0.03 sec\n",
      " ARIMA(2,1,1)(1,0,0)[4]             : AIC=8052.725, Time=0.12 sec\n",
      " ARIMA(1,1,2)(1,0,0)[4]             : AIC=8053.155, Time=0.11 sec\n",
      " ARIMA(0,1,0)(1,0,0)[4]             : AIC=8143.846, Time=0.02 sec\n",
      " ARIMA(0,1,2)(1,0,0)[4]             : AIC=8053.267, Time=0.05 sec\n",
      " ARIMA(2,1,0)(1,0,0)[4]             : AIC=8093.977, Time=0.05 sec\n",
      " ARIMA(2,1,2)(1,0,0)[4]             : AIC=8054.458, Time=0.10 sec\n",
      "\n",
      "Best model:  ARIMA(1,1,1)(1,0,0)[4]          \n",
      "Total fit time: 3.410 seconds\n"
     ]
    }
   ],
   "source": [
    "arima_model_settimanale_pesca = pmd.auto_arima(train_settimanale_pesca[\"revenue\"], start_p=0, start_q=0, start_P=0, start_Q=0, test=\"adf\", seasonal=True,m=4,trace=True)"
   ]
  },
  {
   "cell_type": "markdown",
   "metadata": {},
   "source": [
    "allenamento modello calcio"
   ]
  },
  {
   "cell_type": "code",
   "execution_count": 26,
   "metadata": {},
   "outputs": [
    {
     "name": "stdout",
     "output_type": "stream",
     "text": [
      "Performing stepwise search to minimize aic\n",
      " ARIMA(0,0,1)(0,0,1)[12] intercept   : AIC=2211.205, Time=0.04 sec\n",
      " ARIMA(0,0,0)(0,0,0)[12] intercept   : AIC=2261.345, Time=0.01 sec\n",
      " ARIMA(1,0,0)(1,0,0)[12] intercept   : AIC=2216.395, Time=0.05 sec\n",
      " ARIMA(0,0,0)(0,0,0)[12]             : AIC=2333.909, Time=0.00 sec\n",
      " ARIMA(0,0,1)(0,0,0)[12] intercept   : AIC=2222.587, Time=0.01 sec\n",
      " ARIMA(0,0,1)(1,0,1)[12] intercept   : AIC=2212.367, Time=0.07 sec\n",
      " ARIMA(0,0,1)(0,0,2)[12] intercept   : AIC=2211.114, Time=0.09 sec\n",
      " ARIMA(0,0,1)(1,0,2)[12] intercept   : AIC=2213.024, Time=0.13 sec\n",
      " ARIMA(0,0,1)(0,0,3)[12] intercept   : AIC=2213.060, Time=0.28 sec\n",
      " ARIMA(0,0,1)(1,0,3)[12] intercept   : AIC=2214.986, Time=0.32 sec\n",
      " ARIMA(0,0,0)(0,0,2)[12] intercept   : AIC=2248.595, Time=0.06 sec\n",
      " ARIMA(1,0,1)(0,0,2)[12] intercept   : AIC=2205.493, Time=0.11 sec\n",
      " ARIMA(1,0,1)(0,0,1)[12] intercept   : AIC=2207.012, Time=0.06 sec\n",
      " ARIMA(1,0,1)(1,0,2)[12] intercept   : AIC=2206.930, Time=0.15 sec\n",
      " ARIMA(1,0,1)(0,0,3)[12] intercept   : AIC=2207.447, Time=0.35 sec\n",
      " ARIMA(1,0,1)(1,0,1)[12] intercept   : AIC=2205.607, Time=0.08 sec\n",
      " ARIMA(1,0,1)(1,0,3)[12] intercept   : AIC=2208.930, Time=0.42 sec\n",
      " ARIMA(1,0,0)(0,0,2)[12] intercept   : AIC=2213.305, Time=0.09 sec\n",
      " ARIMA(2,0,1)(0,0,2)[12] intercept   : AIC=2207.117, Time=0.16 sec\n",
      " ARIMA(1,0,2)(0,0,2)[12] intercept   : AIC=2207.510, Time=0.16 sec\n",
      " ARIMA(0,0,2)(0,0,2)[12] intercept   : AIC=2208.252, Time=0.13 sec\n",
      " ARIMA(2,0,0)(0,0,2)[12] intercept   : AIC=2207.959, Time=0.09 sec\n",
      " ARIMA(2,0,2)(0,0,2)[12] intercept   : AIC=2209.389, Time=0.24 sec\n",
      " ARIMA(1,0,1)(0,0,2)[12]             : AIC=2217.242, Time=0.10 sec\n",
      "\n",
      "Best model:  ARIMA(1,0,1)(0,0,2)[12] intercept\n",
      "Total fit time: 3.220 seconds\n"
     ]
    }
   ],
   "source": [
    "arima_model_mensile_calcio = pmd.auto_arima(train_mensile_calcio[\"totale\"], start_p=0, start_q=1, start_P=0, start_Q=1,max_p=4,max_q=4, max_P=4, max_Q=4, test=\"adf\", seasonal=True,m=12,trace=True)"
   ]
  },
  {
   "cell_type": "code",
   "execution_count": 27,
   "metadata": {},
   "outputs": [
    {
     "name": "stdout",
     "output_type": "stream",
     "text": [
      "Performing stepwise search to minimize aic\n",
      " ARIMA(0,1,1)(0,0,0)[0] intercept   : AIC=199.680, Time=0.01 sec\n",
      " ARIMA(0,1,0)(0,0,0)[0] intercept   : AIC=194.669, Time=0.01 sec\n",
      " ARIMA(1,1,0)(0,0,0)[0] intercept   : AIC=196.328, Time=0.01 sec\n",
      " ARIMA(0,1,0)(0,0,0)[0]             : AIC=192.832, Time=0.00 sec\n",
      " ARIMA(1,1,1)(0,0,0)[0] intercept   : AIC=1937089133.138, Time=0.16 sec\n",
      "\n",
      "Best model:  ARIMA(0,1,0)(0,0,0)[0]          \n",
      "Total fit time: 0.213 seconds\n"
     ]
    },
    {
     "name": "stderr",
     "output_type": "stream",
     "text": [
      "c:\\Users\\Ruben\\AppData\\Local\\Programs\\Python\\Python310\\lib\\site-packages\\statsmodels\\regression\\linear_model.py:1673: RuntimeWarning: divide by zero encountered in double_scalars\n",
      "  return np.dot(wresid, wresid) / self.df_resid\n"
     ]
    }
   ],
   "source": [
    "arima_model_year_calcio = pmd.auto_arima(train_year_calcio[\"revenue\"], start_p=0, start_q=1, start_P=0, max_d=1, max_D=1, start_Q=1,max_p=4,max_q=4, max_P=4, max_Q=4, test=\"adf\", seasonal=True,m=1,trace=True)"
   ]
  },
  {
   "cell_type": "code",
   "execution_count": 28,
   "metadata": {},
   "outputs": [
    {
     "name": "stdout",
     "output_type": "stream",
     "text": [
      "Performing stepwise search to minimize aic\n",
      " ARIMA(0,0,0)(0,1,0)[2] intercept   : AIC=750.561, Time=0.00 sec\n",
      " ARIMA(1,0,0)(1,1,0)[2] intercept   : AIC=inf, Time=0.05 sec\n",
      " ARIMA(0,0,1)(0,1,1)[2] intercept   : AIC=745.971, Time=0.02 sec\n",
      " ARIMA(0,0,0)(0,1,0)[2]             : AIC=748.641, Time=0.00 sec\n",
      " ARIMA(0,0,1)(0,1,0)[2] intercept   : AIC=748.719, Time=0.01 sec\n",
      " ARIMA(0,0,1)(1,1,1)[2] intercept   : AIC=741.862, Time=0.17 sec\n",
      " ARIMA(0,0,1)(1,1,0)[2] intercept   : AIC=739.987, Time=0.04 sec\n",
      " ARIMA(0,0,1)(2,1,0)[2] intercept   : AIC=741.875, Time=0.08 sec\n",
      " ARIMA(0,0,1)(2,1,1)[2] intercept   : AIC=743.670, Time=0.14 sec\n",
      " ARIMA(0,0,0)(1,1,0)[2] intercept   : AIC=inf, Time=0.03 sec\n",
      " ARIMA(1,0,1)(1,1,0)[2] intercept   : AIC=inf, Time=0.05 sec\n",
      " ARIMA(0,0,1)(1,1,0)[2]             : AIC=737.471, Time=0.04 sec\n",
      " ARIMA(0,0,1)(0,1,0)[2]             : AIC=746.694, Time=0.01 sec\n",
      " ARIMA(0,0,1)(2,1,0)[2]             : AIC=739.423, Time=0.06 sec\n",
      " ARIMA(0,0,1)(1,1,1)[2]             : AIC=739.439, Time=0.07 sec\n",
      " ARIMA(0,0,1)(0,1,1)[2]             : AIC=743.000, Time=0.01 sec\n",
      " ARIMA(0,0,1)(2,1,1)[2]             : AIC=741.314, Time=0.12 sec\n",
      " ARIMA(0,0,0)(1,1,0)[2]             : AIC=inf, Time=0.02 sec\n",
      " ARIMA(1,0,1)(1,1,0)[2]             : AIC=739.389, Time=0.06 sec\n",
      " ARIMA(1,0,0)(1,1,0)[2]             : AIC=inf, Time=0.04 sec\n",
      "\n",
      "Best model:  ARIMA(0,0,1)(1,1,0)[2]          \n",
      "Total fit time: 1.064 seconds\n"
     ]
    }
   ],
   "source": [
    "arima_model_trim_calcio= pmd.auto_arima(train_trim_calcio[\"revenue\"], start_p=0, start_q=0, start_P=0, start_Q=0, test=\"adf\", seasonal=True,m=2,trace=True)"
   ]
  },
  {
   "cell_type": "code",
   "execution_count": 4,
   "metadata": {},
   "outputs": [
    {
     "name": "stdout",
     "output_type": "stream",
     "text": [
      "Performing stepwise search to minimize aic\n",
      " ARIMA(0,0,0)(0,0,0)[2] intercept   : AIC=8785.597, Time=0.03 sec\n",
      " ARIMA(1,0,0)(1,0,0)[2] intercept   : AIC=8421.327, Time=0.08 sec\n",
      " ARIMA(0,0,1)(0,0,1)[2] intercept   : AIC=8550.481, Time=0.04 sec\n",
      " ARIMA(0,0,0)(0,0,0)[2]             : AIC=9053.299, Time=0.01 sec\n",
      " ARIMA(1,0,0)(0,0,0)[2] intercept   : AIC=8429.122, Time=0.02 sec\n",
      " ARIMA(1,0,0)(2,0,0)[2] intercept   : AIC=8421.131, Time=0.14 sec\n",
      " ARIMA(1,0,0)(2,0,1)[2] intercept   : AIC=8422.486, Time=0.19 sec\n",
      " ARIMA(1,0,0)(1,0,1)[2] intercept   : AIC=8423.259, Time=0.14 sec\n",
      " ARIMA(0,0,0)(2,0,0)[2] intercept   : AIC=8723.045, Time=0.07 sec\n",
      " ARIMA(1,0,1)(2,0,0)[2] intercept   : AIC=8423.844, Time=0.16 sec\n",
      " ARIMA(0,0,1)(2,0,0)[2] intercept   : AIC=8559.085, Time=0.10 sec\n",
      " ARIMA(1,0,0)(2,0,0)[2]             : AIC=8431.883, Time=0.10 sec\n",
      "\n",
      "Best model:  ARIMA(1,0,0)(2,0,0)[2] intercept\n",
      "Total fit time: 1.101 seconds\n"
     ]
    }
   ],
   "source": [
    "arima_model_settimanale_calcio= pmd.auto_arima(train_settimanale_calcio[\"revenue\"], start_p=0, start_q=0, start_P=0, start_Q=0, test=\"adf\", seasonal=True,m=2,trace=True)"
   ]
  },
  {
   "cell_type": "code",
   "execution_count": 13,
   "metadata": {},
   "outputs": [],
   "source": [
    "import pickle"
   ]
  },
  {
   "cell_type": "code",
   "execution_count": 17,
   "metadata": {},
   "outputs": [],
   "source": [
    "with open('./models/arima.pkl', 'wb') as pkl:\n",
    "    pickle.dump(arima_model_year, pkl)"
   ]
  },
  {
   "cell_type": "code",
   "execution_count": 66,
   "metadata": {},
   "outputs": [],
   "source": [
    "with open('./models/arima_trim_pesca.pkl', 'wb') as pkl:\n",
    "    pickle.dump(arima_model_trim_pesca, pkl)"
   ]
  },
  {
   "cell_type": "code",
   "execution_count": 61,
   "metadata": {},
   "outputs": [],
   "source": [
    "with open('./models/arima_trim_calcio.pkl', 'wb') as pkl:\n",
    "    pickle.dump(arima_model_trim_calcio, pkl)"
   ]
  },
  {
   "cell_type": "code",
   "execution_count": 29,
   "metadata": {},
   "outputs": [],
   "source": [
    "with open('./models/arima_year_calcio.pkl', 'wb') as pkl:\n",
    "    pickle.dump(arima_model_year_calcio, pkl)"
   ]
  },
  {
   "cell_type": "code",
   "execution_count": 14,
   "metadata": {},
   "outputs": [],
   "source": [
    "with open('./models/arima_model_mensile_calio.pkl', 'wb') as pkl:\n",
    "    pickle.dump(arima_model_mensile_calcio, pkl)"
   ]
  },
  {
   "cell_type": "code",
   "execution_count": 15,
   "metadata": {},
   "outputs": [],
   "source": [
    "with open('./models/arima_model_mensile_pesca.pkl', 'wb') as pkl:\n",
    "    pickle.dump(arima_model_mensile_pesca, pkl)"
   ]
  },
  {
   "cell_type": "markdown",
   "metadata": {},
   "source": [
    "Predict value casual"
   ]
  },
  {
   "cell_type": "code",
   "execution_count": 83,
   "metadata": {},
   "outputs": [],
   "source": [
    "test_trim_casual[\"SARIMA\"] = arima_model_trim_casual.predict(n_periods=len(test_trim_casual))\n"
   ]
  },
  {
   "cell_type": "code",
   "execution_count": 84,
   "metadata": {},
   "outputs": [],
   "source": [
    "test_year_casual[\"SARIMA\"] = arima_model_year_casual.predict(n_periods=len(test_year_casual))\n"
   ]
  },
  {
   "cell_type": "code",
   "execution_count": 13,
   "metadata": {},
   "outputs": [],
   "source": [
    "test_settimanale_casual[\"SARIMA\"] = arima_model_settimanale_casual.predict(n_periods=len(test_settimanale_casual))\n"
   ]
  },
  {
   "cell_type": "code",
   "execution_count": 86,
   "metadata": {},
   "outputs": [],
   "source": [
    "test_mensile_casual[\"SARIMA\"] = arima_model_mensile_pesca.predict(n_periods=len(test_mensile_casual))"
   ]
  },
  {
   "cell_type": "markdown",
   "metadata": {},
   "source": [
    "Predict value pesca"
   ]
  },
  {
   "cell_type": "code",
   "execution_count": 30,
   "metadata": {},
   "outputs": [],
   "source": [
    "test_trim_pesca[\"SARIMA\"] = arima_model_trim_pesca.predict(n_periods=len(test_trim_pesca))\n"
   ]
  },
  {
   "cell_type": "code",
   "execution_count": 33,
   "metadata": {},
   "outputs": [],
   "source": [
    "test_year_pesca[\"SARIMA\"] = arima_model_year.predict(n_periods=len(test_year_pesca))\n"
   ]
  },
  {
   "cell_type": "code",
   "execution_count": 58,
   "metadata": {},
   "outputs": [],
   "source": [
    "test_settimanale_pesca[\"SARIMA\"] = arima_model_settimanale_pesca.predict(n_periods=len(test_settimanale_pesca))\n"
   ]
  },
  {
   "cell_type": "code",
   "execution_count": 82,
   "metadata": {},
   "outputs": [],
   "source": [
    "test_mensile_pesca[\"SARIMA\"] = arima_model_mensile_pesca.predict(n_periods=len(test_mensile_pesca))"
   ]
  },
  {
   "cell_type": "markdown",
   "metadata": {},
   "source": [
    "Predict model calcio"
   ]
  },
  {
   "cell_type": "code",
   "execution_count": 31,
   "metadata": {},
   "outputs": [],
   "source": [
    "test_trim_calcio[\"SARIMA\"] = arima_model_trim_calcio.predict(n_periods=len(test_trim_calcio))\n"
   ]
  },
  {
   "cell_type": "code",
   "execution_count": 35,
   "metadata": {},
   "outputs": [],
   "source": [
    "test_year_calcio[\"SARIMA\"] = arima_model_year_calcio.predict(n_periods=len(test_year_calcio))\n"
   ]
  },
  {
   "cell_type": "code",
   "execution_count": 36,
   "metadata": {},
   "outputs": [],
   "source": [
    "test_mensile_calcio[\"SARIMA\"] = arima_model_mensile_calcio.predict(n_periods=len(test_mensile_calcio))"
   ]
  },
  {
   "cell_type": "code",
   "execution_count": 6,
   "metadata": {},
   "outputs": [],
   "source": [
    "test_settimanale_calcio[\"SARIMA\"] = arima_model_settimanale_calcio.predict(n_periods=len(test_settimanale_calcio))"
   ]
  },
  {
   "cell_type": "code",
   "execution_count": 7,
   "metadata": {},
   "outputs": [],
   "source": [
    "def mape(dataset): \n",
    "    print(dataset.shape[0])\n",
    "    sum = np.sum(np.divide(np.abs(dataset[\"revenue\"] - dataset[\"SARIMA\"]),dataset[\"revenue\"] ))\n",
    "    sum = sum * 100\n",
    "    return sum/dataset.shape[0]\n"
   ]
  },
  {
   "cell_type": "code",
   "execution_count": 8,
   "metadata": {},
   "outputs": [],
   "source": [
    "def mape_variant(dataset): \n",
    "    print(dataset.shape[0])\n",
    "    sum = np.sum(np.divide(np.abs(dataset[\"totale\"] - dataset[\"SARIMA\"]),dataset[\"totale\"] ))\n",
    "    sum = sum * 100\n",
    "    return sum/dataset.shape[0]"
   ]
  },
  {
   "cell_type": "code",
   "execution_count": 32,
   "metadata": {},
   "outputs": [
    {
     "ename": "NameError",
     "evalue": "name 'test_year' is not defined",
     "output_type": "error",
     "traceback": [
      "\u001b[1;31m---------------------------------------------------------------------------\u001b[0m",
      "\u001b[1;31mNameError\u001b[0m                                 Traceback (most recent call last)",
      "\u001b[1;32m~\\AppData\\Local\\Temp/ipykernel_5796/3631513400.py\u001b[0m in \u001b[0;36m<module>\u001b[1;34m\u001b[0m\n\u001b[1;32m----> 1\u001b[1;33m \u001b[0mprint\u001b[0m\u001b[1;33m(\u001b[0m\u001b[0mmape\u001b[0m\u001b[1;33m(\u001b[0m\u001b[0mtest_year\u001b[0m\u001b[1;33m)\u001b[0m\u001b[1;33m)\u001b[0m\u001b[1;33m\u001b[0m\u001b[1;33m\u001b[0m\u001b[0m\n\u001b[0m",
      "\u001b[1;31mNameError\u001b[0m: name 'test_year' is not defined"
     ]
    }
   ],
   "source": [
    "print(mape(test_year.head(1)))"
   ]
  },
  {
   "cell_type": "markdown",
   "metadata": {},
   "source": [
    "Mape casual"
   ]
  },
  {
   "cell_type": "code",
   "execution_count": 87,
   "metadata": {},
   "outputs": [
    {
     "name": "stdout",
     "output_type": "stream",
     "text": [
      "7\n",
      "327.0476078297126\n"
     ]
    }
   ],
   "source": [
    "print(mape(test_trim_casual))"
   ]
  },
  {
   "cell_type": "code",
   "execution_count": 88,
   "metadata": {},
   "outputs": [
    {
     "name": "stdout",
     "output_type": "stream",
     "text": [
      "2\n",
      "301.2882292424691\n"
     ]
    }
   ],
   "source": [
    "print(mape(test_year_casual))"
   ]
  },
  {
   "cell_type": "code",
   "execution_count": 90,
   "metadata": {},
   "outputs": [
    {
     "name": "stdout",
     "output_type": "stream",
     "text": [
      "20\n",
      "222.0206157031866\n"
     ]
    }
   ],
   "source": [
    "print(mape(test_mensile_casual))"
   ]
  },
  {
   "cell_type": "code",
   "execution_count": 14,
   "metadata": {},
   "outputs": [
    {
     "name": "stdout",
     "output_type": "stream",
     "text": [
      "86\n",
      "145.57359486750372\n"
     ]
    }
   ],
   "source": [
    "print(mape(test_settimanale_casual))"
   ]
  },
  {
   "cell_type": "markdown",
   "metadata": {},
   "source": [
    "Mape pesca"
   ]
  },
  {
   "cell_type": "code",
   "execution_count": 42,
   "metadata": {},
   "outputs": [
    {
     "name": "stdout",
     "output_type": "stream",
     "text": [
      "7\n",
      "319.69505808507046\n"
     ]
    }
   ],
   "source": [
    "print(mape(test_trim_pesca))"
   ]
  },
  {
   "cell_type": "code",
   "execution_count": 45,
   "metadata": {},
   "outputs": [
    {
     "name": "stdout",
     "output_type": "stream",
     "text": [
      "2\n",
      "171.4939132326982\n"
     ]
    }
   ],
   "source": [
    "print(mape(test_year_pesca))"
   ]
  },
  {
   "cell_type": "code",
   "execution_count": 46,
   "metadata": {},
   "outputs": [
    {
     "name": "stdout",
     "output_type": "stream",
     "text": [
      "20\n",
      "62.700421951131844\n"
     ]
    }
   ],
   "source": [
    "print(mape_variant(test_mensile_pesca))"
   ]
  },
  {
   "cell_type": "code",
   "execution_count": 60,
   "metadata": {},
   "outputs": [
    {
     "name": "stdout",
     "output_type": "stream",
     "text": [
      "86\n",
      "31.870955192282853\n"
     ]
    }
   ],
   "source": [
    "print(mape(test_settimanale_pesca))"
   ]
  },
  {
   "cell_type": "markdown",
   "metadata": {},
   "source": [
    "Mape calcio"
   ]
  },
  {
   "cell_type": "code",
   "execution_count": 44,
   "metadata": {},
   "outputs": [
    {
     "name": "stdout",
     "output_type": "stream",
     "text": [
      "2\n",
      "261.7062525597768\n"
     ]
    }
   ],
   "source": [
    "print(mape(test_year_calcio))"
   ]
  },
  {
   "cell_type": "code",
   "execution_count": 43,
   "metadata": {},
   "outputs": [
    {
     "name": "stdout",
     "output_type": "stream",
     "text": [
      "7\n",
      "78.88785389951875\n"
     ]
    }
   ],
   "source": [
    "print(mape(test_trim_calcio))"
   ]
  },
  {
   "cell_type": "code",
   "execution_count": 33,
   "metadata": {},
   "outputs": [
    {
     "name": "stdout",
     "output_type": "stream",
     "text": [
      "20\n",
      "111.43638647609093\n"
     ]
    }
   ],
   "source": [
    "print(mape_variant(test_mensile_calcio))"
   ]
  },
  {
   "cell_type": "code",
   "execution_count": 9,
   "metadata": {},
   "outputs": [
    {
     "name": "stdout",
     "output_type": "stream",
     "text": [
      "86\n",
      "121.61390826552507\n"
     ]
    }
   ],
   "source": [
    "print(mape(test_settimanale_calcio))"
   ]
  }
 ],
 "metadata": {
  "interpreter": {
   "hash": "e850eec08e9669c52e782ee28b71a07544c9e38f5af88e96f29f06e82864309f"
  },
  "kernelspec": {
   "display_name": "Python 3.10.1 64-bit",
   "language": "python",
   "name": "python3"
  },
  "language_info": {
   "codemirror_mode": {
    "name": "ipython",
    "version": 3
   },
   "file_extension": ".py",
   "mimetype": "text/x-python",
   "name": "python",
   "nbconvert_exporter": "python",
   "pygments_lexer": "ipython3",
   "version": "3.10.1"
  },
  "orig_nbformat": 4
 },
 "nbformat": 4,
 "nbformat_minor": 2
}
