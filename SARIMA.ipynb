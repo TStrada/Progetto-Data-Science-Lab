{
 "cells": [
  {
   "cell_type": "code",
   "execution_count": 1,
   "metadata": {},
   "outputs": [
    {
     "name": "stdout",
     "output_type": "stream",
     "text": [
      "Requirement already satisfied: pmdarima in c:\\users\\ruben\\appdata\\local\\programs\\python\\python310\\lib\\site-packages (1.8.5)\n",
      "Requirement already satisfied: setuptools!=50.0.0,>=38.6.0 in c:\\users\\ruben\\appdata\\local\\programs\\python\\python310\\lib\\site-packages (from pmdarima) (58.1.0)\n",
      "Requirement already satisfied: pandas>=0.19 in c:\\users\\ruben\\appdata\\local\\programs\\python\\python310\\lib\\site-packages (from pmdarima) (1.3.5)\n",
      "Requirement already satisfied: joblib>=0.11 in c:\\users\\ruben\\appdata\\local\\programs\\python\\python310\\lib\\site-packages (from pmdarima) (1.1.0)\n",
      "Requirement already satisfied: scikit-learn>=0.22 in c:\\users\\ruben\\appdata\\local\\programs\\python\\python310\\lib\\site-packages (from pmdarima) (1.1.1)\n",
      "Requirement already satisfied: numpy>=1.19.3 in c:\\users\\ruben\\appdata\\local\\programs\\python\\python310\\lib\\site-packages (from pmdarima) (1.22.0)\n",
      "Requirement already satisfied: statsmodels!=0.12.0,>=0.11 in c:\\users\\ruben\\appdata\\local\\programs\\python\\python310\\lib\\site-packages (from pmdarima) (0.13.1)\n",
      "Requirement already satisfied: urllib3 in c:\\users\\ruben\\appdata\\local\\programs\\python\\python310\\lib\\site-packages (from pmdarima) (1.26.8)\n",
      "Requirement already satisfied: Cython!=0.29.18,>=0.29 in c:\\users\\ruben\\appdata\\local\\programs\\python\\python310\\lib\\site-packages (from pmdarima) (0.29.28)\n",
      "Requirement already satisfied: scipy>=1.3.2 in c:\\users\\ruben\\appdata\\local\\programs\\python\\python310\\lib\\site-packages (from pmdarima) (1.7.3)\n",
      "Requirement already satisfied: python-dateutil>=2.7.3 in c:\\users\\ruben\\appdata\\local\\programs\\python\\python310\\lib\\site-packages (from pandas>=0.19->pmdarima) (2.8.2)\n",
      "Requirement already satisfied: pytz>=2017.3 in c:\\users\\ruben\\appdata\\local\\programs\\python\\python310\\lib\\site-packages (from pandas>=0.19->pmdarima) (2021.3)\n",
      "Requirement already satisfied: six>=1.5 in c:\\users\\ruben\\appdata\\local\\programs\\python\\python310\\lib\\site-packages (from python-dateutil>=2.7.3->pandas>=0.19->pmdarima) (1.16.0)\n",
      "Requirement already satisfied: threadpoolctl>=2.0.0 in c:\\users\\ruben\\appdata\\local\\programs\\python\\python310\\lib\\site-packages (from scikit-learn>=0.22->pmdarima) (3.1.0)\n",
      "Requirement already satisfied: patsy>=0.5.2 in c:\\users\\ruben\\appdata\\local\\programs\\python\\python310\\lib\\site-packages (from statsmodels!=0.12.0,>=0.11->pmdarima) (0.5.2)\n"
     ]
    },
    {
     "name": "stderr",
     "output_type": "stream",
     "text": [
      "WARNING: You are using pip version 21.2.4; however, version 22.1.1 is available.\n",
      "You should consider upgrading via the 'C:\\Users\\Ruben\\AppData\\Local\\Programs\\Python\\Python310\\python.exe -m pip install --upgrade pip' command.\n"
     ]
    }
   ],
   "source": [
    "! pip install pmdarima"
   ]
  },
  {
   "cell_type": "code",
   "execution_count": 1,
   "metadata": {},
   "outputs": [],
   "source": [
    "import pandas as pd\n",
    "import pmdarima as pmd\n",
    "import numpy as np\n",
    "from pmdarima.model_selection import train_test_split"
   ]
  },
  {
   "cell_type": "code",
   "execution_count": 2,
   "metadata": {},
   "outputs": [],
   "source": [
    "dataset_year_pesca = pd.read_csv('./data/pesca_annuale.csv')\n",
    "dataset_year_pesca = dataset_year_pesca.sort_values(by='year')"
   ]
  },
  {
   "cell_type": "code",
   "execution_count": 3,
   "metadata": {},
   "outputs": [],
   "source": [
    "dataset_trim_pesca = pd.read_csv('./data/pesca_trimestrale.csv')\n",
    "dataset_trim_pesca = dataset_trim_pesca.sort_values(by='year')"
   ]
  },
  {
   "cell_type": "code",
   "execution_count": 4,
   "metadata": {},
   "outputs": [],
   "source": [
    "dataset_trim_calcio = pd.read_csv('./data/calcio_trimestrale.csv')\n",
    "dataset_trim_calcio = dataset_trim_calcio.sort_values(by='year')"
   ]
  },
  {
   "cell_type": "code",
   "execution_count": 5,
   "metadata": {},
   "outputs": [],
   "source": [
    "dataset_year_calcio = pd.read_csv('./data/calcio_annuale.csv')\n",
    "dataset_year_calcio = dataset_year_calcio.sort_values(by='year')"
   ]
  },
  {
   "cell_type": "code",
   "execution_count": 6,
   "metadata": {},
   "outputs": [],
   "source": [
    "train_year, test_year = train_test_split(dataset_year_pesca, train_size=0.8)\n"
   ]
  },
  {
   "cell_type": "code",
   "execution_count": 7,
   "metadata": {},
   "outputs": [],
   "source": [
    "train_trim_pesca, test_trim_pesca = train_test_split(dataset_trim_pesca, train_size=0.8)\n"
   ]
  },
  {
   "cell_type": "code",
   "execution_count": 8,
   "metadata": {},
   "outputs": [],
   "source": [
    "train_trim_calcio, test_trim_calcio = train_test_split(dataset_trim_calcio, train_size=0.8)\n"
   ]
  },
  {
   "cell_type": "code",
   "execution_count": 9,
   "metadata": {},
   "outputs": [],
   "source": [
    "train_year_calcio, test_year_calcio = train_test_split(dataset_year_calcio, train_size=0.8)\n"
   ]
  },
  {
   "cell_type": "code",
   "execution_count": 12,
   "metadata": {},
   "outputs": [
    {
     "data": {
      "text/html": [
       "<div>\n",
       "<style scoped>\n",
       "    .dataframe tbody tr th:only-of-type {\n",
       "        vertical-align: middle;\n",
       "    }\n",
       "\n",
       "    .dataframe tbody tr th {\n",
       "        vertical-align: top;\n",
       "    }\n",
       "\n",
       "    .dataframe thead th {\n",
       "        text-align: right;\n",
       "    }\n",
       "</style>\n",
       "<table border=\"1\" class=\"dataframe\">\n",
       "  <thead>\n",
       "    <tr style=\"text-align: right;\">\n",
       "      <th></th>\n",
       "      <th>Unnamed: 0</th>\n",
       "      <th>year</th>\n",
       "      <th>revenue</th>\n",
       "    </tr>\n",
       "  </thead>\n",
       "  <tbody>\n",
       "    <tr>\n",
       "      <th>0</th>\n",
       "      <td>0</td>\n",
       "      <td>2014</td>\n",
       "      <td>3365712.79</td>\n",
       "    </tr>\n",
       "    <tr>\n",
       "      <th>1</th>\n",
       "      <td>1</td>\n",
       "      <td>2015</td>\n",
       "      <td>4234959.81</td>\n",
       "    </tr>\n",
       "    <tr>\n",
       "      <th>2</th>\n",
       "      <td>2</td>\n",
       "      <td>2016</td>\n",
       "      <td>3876798.63</td>\n",
       "    </tr>\n",
       "    <tr>\n",
       "      <th>3</th>\n",
       "      <td>3</td>\n",
       "      <td>2017</td>\n",
       "      <td>4552611.48</td>\n",
       "    </tr>\n",
       "    <tr>\n",
       "      <th>4</th>\n",
       "      <td>4</td>\n",
       "      <td>2018</td>\n",
       "      <td>5435884.85</td>\n",
       "    </tr>\n",
       "  </tbody>\n",
       "</table>\n",
       "</div>"
      ],
      "text/plain": [
       "   Unnamed: 0  year     revenue\n",
       "0           0  2014  3365712.79\n",
       "1           1  2015  4234959.81\n",
       "2           2  2016  3876798.63\n",
       "3           3  2017  4552611.48\n",
       "4           4  2018  5435884.85"
      ]
     },
     "execution_count": 12,
     "metadata": {},
     "output_type": "execute_result"
    }
   ],
   "source": [
    "train_year_calcio.head()"
   ]
  },
  {
   "cell_type": "code",
   "execution_count": 10,
   "metadata": {},
   "outputs": [
    {
     "name": "stdout",
     "output_type": "stream",
     "text": [
      "Performing stepwise search to minimize aic\n",
      " ARIMA(0,0,1)(0,0,0)[0] intercept   : AIC=inf, Time=0.06 sec\n",
      " ARIMA(0,0,0)(0,0,0)[0] intercept   : AIC=229.495, Time=0.00 sec\n",
      " ARIMA(1,0,0)(0,0,0)[0] intercept   : AIC=240.441, Time=0.01 sec\n",
      " ARIMA(0,0,0)(0,0,0)[0]             : AIC=242.512, Time=0.00 sec\n",
      " ARIMA(1,0,1)(0,0,0)[0] intercept   : AIC=inf, Time=0.05 sec\n",
      "\n",
      "Best model:  ARIMA(0,0,0)(0,0,0)[0] intercept\n",
      "Total fit time: 0.143 seconds\n"
     ]
    }
   ],
   "source": [
    "arima_model_year = pmd.auto_arima(train_year[\"revenue\"], start_p=0, start_q=1, start_P=0, start_Q=1,max_p=4,max_q=4, max_P=4, max_Q=4, test=\"adf\", seasonal=True,m=1,trace=True)"
   ]
  },
  {
   "cell_type": "code",
   "execution_count": 28,
   "metadata": {},
   "outputs": [
    {
     "name": "stdout",
     "output_type": "stream",
     "text": [
      "Performing stepwise search to minimize aic\n",
      " ARIMA(0,1,1)(0,0,0)[0] intercept   : AIC=199.680, Time=0.01 sec\n",
      " ARIMA(0,1,0)(0,0,0)[0] intercept   : AIC=194.669, Time=0.00 sec\n",
      " ARIMA(1,1,0)(0,0,0)[0] intercept   : AIC=196.328, Time=0.01 sec\n",
      " ARIMA(0,1,0)(0,0,0)[0]             : AIC=192.832, Time=0.00 sec\n",
      " ARIMA(1,1,1)(0,0,0)[0] intercept   : AIC=1937089133.138, Time=0.10 sec\n",
      "\n",
      "Best model:  ARIMA(0,1,0)(0,0,0)[0]          \n",
      "Total fit time: 0.137 seconds\n"
     ]
    },
    {
     "name": "stderr",
     "output_type": "stream",
     "text": [
      "c:\\Users\\Ruben\\AppData\\Local\\Programs\\Python\\Python310\\lib\\site-packages\\statsmodels\\regression\\linear_model.py:1673: RuntimeWarning: divide by zero encountered in double_scalars\n",
      "  return np.dot(wresid, wresid) / self.df_resid\n"
     ]
    }
   ],
   "source": [
    "arima_model_year_calcio = pmd.auto_arima(train_year_calcio[\"revenue\"], start_p=0, start_q=1, start_P=0, max_d=1, max_D=1, start_Q=1,max_p=4,max_q=4, max_P=4, max_Q=4, test=\"adf\", seasonal=True,m=1,trace=True)"
   ]
  },
  {
   "cell_type": "code",
   "execution_count": 16,
   "metadata": {},
   "outputs": [
    {
     "name": "stdout",
     "output_type": "stream",
     "text": [
      "Performing stepwise search to minimize aic\n",
      " ARIMA(0,2,0)(0,0,0)[4]             : AIC=681.628, Time=0.01 sec\n",
      " ARIMA(1,2,0)(1,0,0)[4]             : AIC=682.656, Time=0.02 sec\n",
      " ARIMA(0,2,1)(0,0,1)[4]             : AIC=684.171, Time=0.02 sec\n",
      " ARIMA(0,2,0)(1,0,0)[4]             : AIC=680.391, Time=0.01 sec\n",
      " ARIMA(0,2,0)(2,0,0)[4]             : AIC=682.446, Time=0.03 sec\n",
      " ARIMA(0,2,0)(1,0,1)[4]             : AIC=682.331, Time=0.02 sec\n",
      " ARIMA(0,2,0)(0,0,1)[4]             : AIC=685.449, Time=0.01 sec\n",
      " ARIMA(0,2,0)(2,0,1)[4]             : AIC=683.858, Time=0.05 sec\n",
      " ARIMA(0,2,1)(1,0,0)[4]             : AIC=683.156, Time=0.02 sec\n",
      " ARIMA(1,2,1)(1,0,0)[4]             : AIC=685.152, Time=0.04 sec\n",
      " ARIMA(0,2,0)(1,0,0)[4] intercept   : AIC=681.868, Time=0.02 sec\n",
      "\n",
      "Best model:  ARIMA(0,2,0)(1,0,0)[4]          \n",
      "Total fit time: 0.263 seconds\n"
     ]
    }
   ],
   "source": [
    "arima_model_trim_pesca = pmd.auto_arima(train_trim_pesca[\"revenue\"], start_p=0, start_q=0, start_P=0, start_Q=0, test=\"adf\", seasonal=True,m=4,trace=True)"
   ]
  },
  {
   "cell_type": "code",
   "execution_count": 17,
   "metadata": {},
   "outputs": [
    {
     "name": "stdout",
     "output_type": "stream",
     "text": [
      "Performing stepwise search to minimize aic\n",
      " ARIMA(0,0,0)(0,1,0)[2] intercept   : AIC=750.561, Time=0.01 sec\n",
      " ARIMA(1,0,0)(1,1,0)[2] intercept   : AIC=inf, Time=0.04 sec\n",
      " ARIMA(0,0,1)(0,1,1)[2] intercept   : AIC=745.971, Time=0.02 sec\n",
      " ARIMA(0,0,0)(0,1,0)[2]             : AIC=748.641, Time=0.00 sec\n",
      " ARIMA(0,0,1)(0,1,0)[2] intercept   : AIC=748.719, Time=0.01 sec\n",
      " ARIMA(0,0,1)(1,1,1)[2] intercept   : AIC=741.862, Time=0.16 sec\n",
      " ARIMA(0,0,1)(1,1,0)[2] intercept   : AIC=739.987, Time=0.04 sec\n",
      " ARIMA(0,0,1)(2,1,0)[2] intercept   : AIC=741.875, Time=0.08 sec\n",
      " ARIMA(0,0,1)(2,1,1)[2] intercept   : AIC=743.670, Time=0.14 sec\n",
      " ARIMA(0,0,0)(1,1,0)[2] intercept   : AIC=inf, Time=0.03 sec\n",
      " ARIMA(1,0,1)(1,1,0)[2] intercept   : AIC=inf, Time=0.06 sec\n",
      " ARIMA(0,0,1)(1,1,0)[2]             : AIC=737.471, Time=0.04 sec\n",
      " ARIMA(0,0,1)(0,1,0)[2]             : AIC=746.694, Time=0.01 sec\n",
      " ARIMA(0,0,1)(2,1,0)[2]             : AIC=739.423, Time=0.07 sec\n",
      " ARIMA(0,0,1)(1,1,1)[2]             : AIC=739.439, Time=0.07 sec\n",
      " ARIMA(0,0,1)(0,1,1)[2]             : AIC=743.000, Time=0.02 sec\n",
      " ARIMA(0,0,1)(2,1,1)[2]             : AIC=741.314, Time=0.11 sec\n",
      " ARIMA(0,0,0)(1,1,0)[2]             : AIC=inf, Time=0.02 sec\n",
      " ARIMA(1,0,1)(1,1,0)[2]             : AIC=739.389, Time=0.06 sec\n",
      " ARIMA(1,0,0)(1,1,0)[2]             : AIC=inf, Time=0.04 sec\n",
      "\n",
      "Best model:  ARIMA(0,0,1)(1,1,0)[2]          \n",
      "Total fit time: 1.055 seconds\n"
     ]
    }
   ],
   "source": [
    "arima_model_trim_calcio= pmd.auto_arima(train_trim_calcio[\"revenue\"], start_p=0, start_q=0, start_P=0, start_Q=0, test=\"adf\", seasonal=True,m=2,trace=True)"
   ]
  },
  {
   "cell_type": "code",
   "execution_count": 19,
   "metadata": {},
   "outputs": [],
   "source": [
    "import pickle"
   ]
  },
  {
   "cell_type": "code",
   "execution_count": 17,
   "metadata": {},
   "outputs": [],
   "source": [
    "with open('./models/arima.pkl', 'wb') as pkl:\n",
    "    pickle.dump(arima_model_year, pkl)"
   ]
  },
  {
   "cell_type": "code",
   "execution_count": 66,
   "metadata": {},
   "outputs": [],
   "source": [
    "with open('./models/arima_trim_pesca.pkl', 'wb') as pkl:\n",
    "    pickle.dump(arima_model_trim_pesca, pkl)"
   ]
  },
  {
   "cell_type": "code",
   "execution_count": 61,
   "metadata": {},
   "outputs": [],
   "source": [
    "with open('./models/arima_trim_calcio.pkl', 'wb') as pkl:\n",
    "    pickle.dump(arima_model_trim_calcio, pkl)"
   ]
  },
  {
   "cell_type": "code",
   "execution_count": 29,
   "metadata": {},
   "outputs": [],
   "source": [
    "with open('./models/arima_year_calcio.pkl', 'wb') as pkl:\n",
    "    pickle.dump(arima_model_year_calcio, pkl)"
   ]
  },
  {
   "cell_type": "markdown",
   "metadata": {},
   "source": [
    "Best model (2,0,0)(3,0,1)"
   ]
  },
  {
   "cell_type": "code",
   "execution_count": 21,
   "metadata": {},
   "outputs": [
    {
     "data": {
      "text/html": [
       "<div>\n",
       "<style scoped>\n",
       "    .dataframe tbody tr th:only-of-type {\n",
       "        vertical-align: middle;\n",
       "    }\n",
       "\n",
       "    .dataframe tbody tr th {\n",
       "        vertical-align: top;\n",
       "    }\n",
       "\n",
       "    .dataframe thead th {\n",
       "        text-align: right;\n",
       "    }\n",
       "</style>\n",
       "<table border=\"1\" class=\"dataframe\">\n",
       "  <thead>\n",
       "    <tr style=\"text-align: right;\">\n",
       "      <th></th>\n",
       "      <th>Unnamed: 0</th>\n",
       "      <th>year</th>\n",
       "      <th>revenue</th>\n",
       "      <th>SARIMA</th>\n",
       "    </tr>\n",
       "  </thead>\n",
       "  <tbody>\n",
       "    <tr>\n",
       "      <th>26</th>\n",
       "      <td>26</td>\n",
       "      <td>2020-09-30</td>\n",
       "      <td>1727871.52</td>\n",
       "      <td>4.476301e+06</td>\n",
       "    </tr>\n",
       "    <tr>\n",
       "      <th>27</th>\n",
       "      <td>27</td>\n",
       "      <td>2020-12-31</td>\n",
       "      <td>1881887.80</td>\n",
       "      <td>5.787355e+06</td>\n",
       "    </tr>\n",
       "    <tr>\n",
       "      <th>28</th>\n",
       "      <td>28</td>\n",
       "      <td>2021-03-31</td>\n",
       "      <td>2258617.01</td>\n",
       "      <td>7.026501e+06</td>\n",
       "    </tr>\n",
       "    <tr>\n",
       "      <th>29</th>\n",
       "      <td>29</td>\n",
       "      <td>2021-06-30</td>\n",
       "      <td>1923040.08</td>\n",
       "      <td>7.593583e+06</td>\n",
       "    </tr>\n",
       "    <tr>\n",
       "      <th>30</th>\n",
       "      <td>30</td>\n",
       "      <td>2021-09-30</td>\n",
       "      <td>1620445.53</td>\n",
       "      <td>8.131103e+06</td>\n",
       "    </tr>\n",
       "    <tr>\n",
       "      <th>31</th>\n",
       "      <td>31</td>\n",
       "      <td>2021-12-31</td>\n",
       "      <td>1704044.85</td>\n",
       "      <td>8.753975e+06</td>\n",
       "    </tr>\n",
       "    <tr>\n",
       "      <th>32</th>\n",
       "      <td>32</td>\n",
       "      <td>2022-03-31</td>\n",
       "      <td>1448752.71</td>\n",
       "      <td>9.414009e+06</td>\n",
       "    </tr>\n",
       "  </tbody>\n",
       "</table>\n",
       "</div>"
      ],
      "text/plain": [
       "    Unnamed: 0        year     revenue        SARIMA\n",
       "26          26  2020-09-30  1727871.52  4.476301e+06\n",
       "27          27  2020-12-31  1881887.80  5.787355e+06\n",
       "28          28  2021-03-31  2258617.01  7.026501e+06\n",
       "29          29  2021-06-30  1923040.08  7.593583e+06\n",
       "30          30  2021-09-30  1620445.53  8.131103e+06\n",
       "31          31  2021-12-31  1704044.85  8.753975e+06\n",
       "32          32  2022-03-31  1448752.71  9.414009e+06"
      ]
     },
     "execution_count": 21,
     "metadata": {},
     "output_type": "execute_result"
    }
   ],
   "source": [
    "test_trim_pesca[\"SARIMA\"] = arima_model_trim_pesca.predict(n_periods=len(test_trim_pesca))\n",
    "test_trim_pesca.head(10)"
   ]
  },
  {
   "cell_type": "code",
   "execution_count": 22,
   "metadata": {},
   "outputs": [
    {
     "data": {
      "text/html": [
       "<div>\n",
       "<style scoped>\n",
       "    .dataframe tbody tr th:only-of-type {\n",
       "        vertical-align: middle;\n",
       "    }\n",
       "\n",
       "    .dataframe tbody tr th {\n",
       "        vertical-align: top;\n",
       "    }\n",
       "\n",
       "    .dataframe thead th {\n",
       "        text-align: right;\n",
       "    }\n",
       "</style>\n",
       "<table border=\"1\" class=\"dataframe\">\n",
       "  <thead>\n",
       "    <tr style=\"text-align: right;\">\n",
       "      <th></th>\n",
       "      <th>Unnamed: 0</th>\n",
       "      <th>year</th>\n",
       "      <th>revenue</th>\n",
       "      <th>SARIMA</th>\n",
       "    </tr>\n",
       "  </thead>\n",
       "  <tbody>\n",
       "    <tr>\n",
       "      <th>26</th>\n",
       "      <td>26</td>\n",
       "      <td>2020-09-30</td>\n",
       "      <td>2254753.87</td>\n",
       "      <td>4.919038e+06</td>\n",
       "    </tr>\n",
       "    <tr>\n",
       "      <th>27</th>\n",
       "      <td>27</td>\n",
       "      <td>2020-12-31</td>\n",
       "      <td>1170900.69</td>\n",
       "      <td>1.467532e+06</td>\n",
       "    </tr>\n",
       "    <tr>\n",
       "      <th>28</th>\n",
       "      <td>28</td>\n",
       "      <td>2021-03-31</td>\n",
       "      <td>509403.89</td>\n",
       "      <td>8.829062e+05</td>\n",
       "    </tr>\n",
       "    <tr>\n",
       "      <th>29</th>\n",
       "      <td>29</td>\n",
       "      <td>2021-06-30</td>\n",
       "      <td>589663.53</td>\n",
       "      <td>4.559836e+05</td>\n",
       "    </tr>\n",
       "    <tr>\n",
       "      <th>30</th>\n",
       "      <td>30</td>\n",
       "      <td>2021-09-30</td>\n",
       "      <td>1257807.31</td>\n",
       "      <td>4.918919e+06</td>\n",
       "    </tr>\n",
       "    <tr>\n",
       "      <th>31</th>\n",
       "      <td>31</td>\n",
       "      <td>2021-12-31</td>\n",
       "      <td>1350740.40</td>\n",
       "      <td>1.467502e+06</td>\n",
       "    </tr>\n",
       "    <tr>\n",
       "      <th>32</th>\n",
       "      <td>32</td>\n",
       "      <td>2022-03-31</td>\n",
       "      <td>781360.53</td>\n",
       "      <td>8.830248e+05</td>\n",
       "    </tr>\n",
       "  </tbody>\n",
       "</table>\n",
       "</div>"
      ],
      "text/plain": [
       "    Unnamed: 0        year     revenue        SARIMA\n",
       "26          26  2020-09-30  2254753.87  4.919038e+06\n",
       "27          27  2020-12-31  1170900.69  1.467532e+06\n",
       "28          28  2021-03-31   509403.89  8.829062e+05\n",
       "29          29  2021-06-30   589663.53  4.559836e+05\n",
       "30          30  2021-09-30  1257807.31  4.918919e+06\n",
       "31          31  2021-12-31  1350740.40  1.467502e+06\n",
       "32          32  2022-03-31   781360.53  8.830248e+05"
      ]
     },
     "execution_count": 22,
     "metadata": {},
     "output_type": "execute_result"
    }
   ],
   "source": [
    "test_trim_calcio[\"SARIMA\"] = arima_model_trim_calcio.predict(n_periods=len(test_trim_calcio))\n",
    "test_trim_calcio.head(10)"
   ]
  },
  {
   "cell_type": "code",
   "execution_count": 23,
   "metadata": {},
   "outputs": [
    {
     "data": {
      "text/html": [
       "<div>\n",
       "<style scoped>\n",
       "    .dataframe tbody tr th:only-of-type {\n",
       "        vertical-align: middle;\n",
       "    }\n",
       "\n",
       "    .dataframe tbody tr th {\n",
       "        vertical-align: top;\n",
       "    }\n",
       "\n",
       "    .dataframe thead th {\n",
       "        text-align: right;\n",
       "    }\n",
       "</style>\n",
       "<table border=\"1\" class=\"dataframe\">\n",
       "  <thead>\n",
       "    <tr style=\"text-align: right;\">\n",
       "      <th></th>\n",
       "      <th>Unnamed: 0</th>\n",
       "      <th>year</th>\n",
       "      <th>revenue</th>\n",
       "      <th>SARIMA</th>\n",
       "    </tr>\n",
       "  </thead>\n",
       "  <tbody>\n",
       "    <tr>\n",
       "      <th>7</th>\n",
       "      <td>7</td>\n",
       "      <td>2021</td>\n",
       "      <td>7506147.47</td>\n",
       "      <td>6.571590e+06</td>\n",
       "    </tr>\n",
       "    <tr>\n",
       "      <th>8</th>\n",
       "      <td>8</td>\n",
       "      <td>2022</td>\n",
       "      <td>1526369.56</td>\n",
       "      <td>6.571590e+06</td>\n",
       "    </tr>\n",
       "  </tbody>\n",
       "</table>\n",
       "</div>"
      ],
      "text/plain": [
       "   Unnamed: 0  year     revenue        SARIMA\n",
       "7           7  2021  7506147.47  6.571590e+06\n",
       "8           8  2022  1526369.56  6.571590e+06"
      ]
     },
     "execution_count": 23,
     "metadata": {},
     "output_type": "execute_result"
    }
   ],
   "source": [
    "test_year[\"SARIMA\"] = arima_model_year.predict(n_periods=len(test_year))\n",
    "test_year.head(10)"
   ]
  },
  {
   "cell_type": "code",
   "execution_count": 30,
   "metadata": {},
   "outputs": [],
   "source": [
    "test_year_calcio[\"SARIMA\"] = arima_model_year_calcio.predict(n_periods=len(test_year_calcio))\n"
   ]
  },
  {
   "cell_type": "code",
   "execution_count": 26,
   "metadata": {},
   "outputs": [],
   "source": [
    "def mape(dataset): \n",
    "    print(dataset.shape[0])\n",
    "    sum = np.sum(np.divide(np.abs(dataset[\"revenue\"] - dataset[\"SARIMA\"]),dataset[\"revenue\"] ))\n",
    "    sum = sum * 100\n",
    "    return sum/dataset.shape[0]\n"
   ]
  },
  {
   "cell_type": "code",
   "execution_count": 85,
   "metadata": {},
   "outputs": [
    {
     "name": "stdout",
     "output_type": "stream",
     "text": [
      "1\n",
      "12.450564946258455\n"
     ]
    }
   ],
   "source": [
    "print(mape(test_year.head(1)))"
   ]
  },
  {
   "cell_type": "code",
   "execution_count": 86,
   "metadata": {},
   "outputs": [
    {
     "name": "stdout",
     "output_type": "stream",
     "text": [
      "1\n",
      "159.06444550590894\n"
     ]
    }
   ],
   "source": [
    "print(mape(test_trim_pesca.head(1)))"
   ]
  },
  {
   "cell_type": "code",
   "execution_count": 87,
   "metadata": {},
   "outputs": [
    {
     "name": "stdout",
     "output_type": "stream",
     "text": [
      "1\n",
      "118.16297243962693\n"
     ]
    }
   ],
   "source": [
    "print(mape(test_trim_calcio.head(1)))"
   ]
  },
  {
   "cell_type": "code",
   "execution_count": 31,
   "metadata": {},
   "outputs": [
    {
     "name": "stdout",
     "output_type": "stream",
     "text": [
      "1\n",
      "28.502982724638937\n"
     ]
    }
   ],
   "source": [
    "print(mape(test_year_calcio.head(1)))"
   ]
  },
  {
   "cell_type": "code",
   "execution_count": null,
   "metadata": {},
   "outputs": [],
   "source": [
    "import plotly.express as px\n",
    "fig = px.line(test, x='data', y=['totale',\"ARIMA\"])\n",
    "fig.show()"
   ]
  }
 ],
 "metadata": {
  "interpreter": {
   "hash": "e850eec08e9669c52e782ee28b71a07544c9e38f5af88e96f29f06e82864309f"
  },
  "kernelspec": {
   "display_name": "Python 3.10.1 64-bit",
   "language": "python",
   "name": "python3"
  },
  "language_info": {
   "codemirror_mode": {
    "name": "ipython",
    "version": 3
   },
   "file_extension": ".py",
   "mimetype": "text/x-python",
   "name": "python",
   "nbconvert_exporter": "python",
   "pygments_lexer": "ipython3",
   "version": "3.10.1"
  },
  "orig_nbformat": 4
 },
 "nbformat": 4,
 "nbformat_minor": 2
}
