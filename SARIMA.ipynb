{
 "cells": [
  {
   "cell_type": "code",
   "execution_count": 1,
   "metadata": {},
   "outputs": [
    {
     "name": "stdout",
     "output_type": "stream",
     "text": [
      "Requirement already satisfied: pmdarima in c:\\users\\ruben\\appdata\\local\\programs\\python\\python310\\lib\\site-packages (1.8.5)\n",
      "Requirement already satisfied: setuptools!=50.0.0,>=38.6.0 in c:\\users\\ruben\\appdata\\local\\programs\\python\\python310\\lib\\site-packages (from pmdarima) (58.1.0)\n",
      "Requirement already satisfied: pandas>=0.19 in c:\\users\\ruben\\appdata\\local\\programs\\python\\python310\\lib\\site-packages (from pmdarima) (1.3.5)\n",
      "Requirement already satisfied: joblib>=0.11 in c:\\users\\ruben\\appdata\\local\\programs\\python\\python310\\lib\\site-packages (from pmdarima) (1.1.0)\n",
      "Requirement already satisfied: scikit-learn>=0.22 in c:\\users\\ruben\\appdata\\local\\programs\\python\\python310\\lib\\site-packages (from pmdarima) (1.1.1)\n",
      "Requirement already satisfied: numpy>=1.19.3 in c:\\users\\ruben\\appdata\\local\\programs\\python\\python310\\lib\\site-packages (from pmdarima) (1.22.0)\n",
      "Requirement already satisfied: statsmodels!=0.12.0,>=0.11 in c:\\users\\ruben\\appdata\\local\\programs\\python\\python310\\lib\\site-packages (from pmdarima) (0.13.1)\n",
      "Requirement already satisfied: urllib3 in c:\\users\\ruben\\appdata\\local\\programs\\python\\python310\\lib\\site-packages (from pmdarima) (1.26.8)\n",
      "Requirement already satisfied: Cython!=0.29.18,>=0.29 in c:\\users\\ruben\\appdata\\local\\programs\\python\\python310\\lib\\site-packages (from pmdarima) (0.29.28)\n",
      "Requirement already satisfied: scipy>=1.3.2 in c:\\users\\ruben\\appdata\\local\\programs\\python\\python310\\lib\\site-packages (from pmdarima) (1.7.3)\n",
      "Requirement already satisfied: python-dateutil>=2.7.3 in c:\\users\\ruben\\appdata\\local\\programs\\python\\python310\\lib\\site-packages (from pandas>=0.19->pmdarima) (2.8.2)\n",
      "Requirement already satisfied: pytz>=2017.3 in c:\\users\\ruben\\appdata\\local\\programs\\python\\python310\\lib\\site-packages (from pandas>=0.19->pmdarima) (2021.3)\n",
      "Requirement already satisfied: six>=1.5 in c:\\users\\ruben\\appdata\\local\\programs\\python\\python310\\lib\\site-packages (from python-dateutil>=2.7.3->pandas>=0.19->pmdarima) (1.16.0)\n",
      "Requirement already satisfied: threadpoolctl>=2.0.0 in c:\\users\\ruben\\appdata\\local\\programs\\python\\python310\\lib\\site-packages (from scikit-learn>=0.22->pmdarima) (3.1.0)\n",
      "Requirement already satisfied: patsy>=0.5.2 in c:\\users\\ruben\\appdata\\local\\programs\\python\\python310\\lib\\site-packages (from statsmodels!=0.12.0,>=0.11->pmdarima) (0.5.2)\n"
     ]
    },
    {
     "name": "stderr",
     "output_type": "stream",
     "text": [
      "WARNING: You are using pip version 21.2.4; however, version 22.1.1 is available.\n",
      "You should consider upgrading via the 'C:\\Users\\Ruben\\AppData\\Local\\Programs\\Python\\Python310\\python.exe -m pip install --upgrade pip' command.\n"
     ]
    }
   ],
   "source": [
    "! pip install pmdarima"
   ]
  },
  {
   "cell_type": "code",
   "execution_count": 1,
   "metadata": {},
   "outputs": [],
   "source": [
    "import pandas as pd\n",
    "import pmdarima as pmd\n",
    "import numpy as np\n",
    "from pmdarima.model_selection import train_test_split"
   ]
  },
  {
   "cell_type": "code",
   "execution_count": 11,
   "metadata": {},
   "outputs": [],
   "source": [
    "dataset_year_pesca = pd.read_csv('./data/pesca_annuale.csv')\n",
    "dataset_year_pesca = dataset_year_pesca.sort_values(by='year')"
   ]
  },
  {
   "cell_type": "code",
   "execution_count": 34,
   "metadata": {},
   "outputs": [],
   "source": [
    "dataset_trim_pesca = pd.read_csv('./data/pesca_trimestrale.csv')\n",
    "dataset_trim_pesca = dataset_trim_pesca.sort_values(by='year')"
   ]
  },
  {
   "cell_type": "code",
   "execution_count": 40,
   "metadata": {},
   "outputs": [],
   "source": [
    "dataset_trim_calcio = pd.read_csv('./data/calcio_trimestrale.csv')\n",
    "dataset_trim_calcio = dataset_trim_calcio.sort_values(by='year')"
   ]
  },
  {
   "cell_type": "code",
   "execution_count": 41,
   "metadata": {},
   "outputs": [],
   "source": [
    "dataset_year_calcio = pd.read_csv('./data/calcio_annuale.csv')\n",
    "dataset_year_calcio = dataset_year_calcio.sort_values(by='year')"
   ]
  },
  {
   "cell_type": "code",
   "execution_count": 14,
   "metadata": {},
   "outputs": [],
   "source": [
    "train_year, test_year = train_test_split(dataset_year_pesca, train_size=0.8)\n"
   ]
  },
  {
   "cell_type": "code",
   "execution_count": 35,
   "metadata": {},
   "outputs": [],
   "source": [
    "train_trim_pesca, test_trim_pesca = train_test_split(dataset_trim_pesca, train_size=0.8)\n"
   ]
  },
  {
   "cell_type": "code",
   "execution_count": 42,
   "metadata": {},
   "outputs": [],
   "source": [
    "train_trim_calcio, test_trim_calcio = train_test_split(dataset_trim_calcio, train_size=0.8)\n"
   ]
  },
  {
   "cell_type": "code",
   "execution_count": 43,
   "metadata": {},
   "outputs": [],
   "source": [
    "train_year_calcio, test_year_calcio = train_test_split(dataset_year_calcio, train_size=0.8)\n"
   ]
  },
  {
   "cell_type": "code",
   "execution_count": 50,
   "metadata": {},
   "outputs": [
    {
     "data": {
      "text/plain": [
       "0    3365712.79\n",
       "1    4234959.81\n",
       "2    3876798.63\n",
       "3    4552611.48\n",
       "4    5435884.85\n",
       "Name: revenue, dtype: float64"
      ]
     },
     "execution_count": 50,
     "metadata": {},
     "output_type": "execute_result"
    }
   ],
   "source": [
    "train_year_calcio.head()[\"revenue\"]"
   ]
  },
  {
   "cell_type": "code",
   "execution_count": 47,
   "metadata": {},
   "outputs": [
    {
     "name": "stdout",
     "output_type": "stream",
     "text": [
      "Performing stepwise search to minimize aic\n",
      " ARIMA(0,0,1)(0,0,0)[0] intercept   : AIC=inf, Time=0.03 sec\n",
      " ARIMA(0,0,0)(0,0,0)[0] intercept   : AIC=229.495, Time=0.00 sec\n",
      " ARIMA(1,0,0)(0,0,0)[0] intercept   : AIC=240.441, Time=0.01 sec\n",
      " ARIMA(0,0,0)(0,0,0)[0]             : AIC=242.512, Time=0.00 sec\n",
      " ARIMA(1,0,1)(0,0,0)[0] intercept   : AIC=inf, Time=0.05 sec\n",
      "\n",
      "Best model:  ARIMA(0,0,0)(0,0,0)[0] intercept\n",
      "Total fit time: 0.105 seconds\n"
     ]
    }
   ],
   "source": [
    "arima_model_year = pmd.auto_arima(train_year[\"revenue\"], start_p=0, start_q=1, start_P=0, start_Q=1,max_p=4,max_q=4, max_P=4, max_Q=4, test=\"adf\", seasonal=True,m=1,trace=True)"
   ]
  },
  {
   "cell_type": "code",
   "execution_count": 51,
   "metadata": {},
   "outputs": [
    {
     "name": "stderr",
     "output_type": "stream",
     "text": [
      "c:\\Users\\Ruben\\AppData\\Local\\Programs\\Python\\Python310\\lib\\site-packages\\statsmodels\\regression\\linear_model.py:1673: RuntimeWarning: divide by zero encountered in double_scalars\n",
      "  return np.dot(wresid, wresid) / self.df_resid\n"
     ]
    },
    {
     "ename": "ValueError",
     "evalue": "Encountered exception in stationarity test ('adf'). This can occur in seasonal settings when a large enough `m` coupled with a large enough `D` difference the training array into too few samples for OLS (input contains 7 samples). Try fitting on a larger training size (raised from LinAlgError: Last 2 dimensions of the array must be square)",
     "output_type": "error",
     "traceback": [
      "\u001b[1;31m---------------------------------------------------------------------------\u001b[0m",
      "\u001b[1;31mLinAlgError\u001b[0m                               Traceback (most recent call last)",
      "\u001b[1;32mc:\\Users\\Ruben\\AppData\\Local\\Programs\\Python\\Python310\\lib\\site-packages\\pmdarima\\context_managers.py\u001b[0m in \u001b[0;36mexcept_and_reraise\u001b[1;34m(raise_err, raise_msg, *except_errs)\u001b[0m\n\u001b[0;32m     32\u001b[0m     \u001b[1;32mtry\u001b[0m\u001b[1;33m:\u001b[0m\u001b[1;33m\u001b[0m\u001b[1;33m\u001b[0m\u001b[0m\n\u001b[1;32m---> 33\u001b[1;33m         \u001b[1;32myield\u001b[0m\u001b[1;33m\u001b[0m\u001b[1;33m\u001b[0m\u001b[0m\n\u001b[0m\u001b[0;32m     34\u001b[0m     \u001b[1;32mexcept\u001b[0m \u001b[0mexcept_errs\u001b[0m \u001b[1;32mas\u001b[0m \u001b[0me\u001b[0m\u001b[1;33m:\u001b[0m\u001b[1;33m\u001b[0m\u001b[1;33m\u001b[0m\u001b[0m\n",
      "\u001b[1;32mc:\\Users\\Ruben\\AppData\\Local\\Programs\\Python\\Python310\\lib\\site-packages\\pmdarima\\arima\\utils.py\u001b[0m in \u001b[0;36mndiffs\u001b[1;34m(x, alpha, test, max_d, **kwargs)\u001b[0m\n\u001b[0;32m    204\u001b[0m             \u001b[1;31m# get new result\u001b[0m\u001b[1;33m\u001b[0m\u001b[1;33m\u001b[0m\u001b[0m\n\u001b[1;32m--> 205\u001b[1;33m             \u001b[0mpval\u001b[0m\u001b[1;33m,\u001b[0m \u001b[0mdodiff\u001b[0m \u001b[1;33m=\u001b[0m \u001b[0mtestfunc\u001b[0m\u001b[1;33m(\u001b[0m\u001b[0mx\u001b[0m\u001b[1;33m)\u001b[0m\u001b[1;33m\u001b[0m\u001b[1;33m\u001b[0m\u001b[0m\n\u001b[0m\u001b[0;32m    206\u001b[0m \u001b[1;33m\u001b[0m\u001b[0m\n",
      "\u001b[1;32mc:\\Users\\Ruben\\AppData\\Local\\Programs\\Python\\Python310\\lib\\site-packages\\pmdarima\\arima\\stationarity.py\u001b[0m in \u001b[0;36mshould_diff\u001b[1;34m(self, x)\u001b[0m\n\u001b[0;32m    337\u001b[0m         \u001b[1;31m# Compute ordinary least squares\u001b[0m\u001b[1;33m\u001b[0m\u001b[1;33m\u001b[0m\u001b[0m\n\u001b[1;32m--> 338\u001b[1;33m         \u001b[0mres\u001b[0m \u001b[1;33m=\u001b[0m \u001b[0mself\u001b[0m\u001b[1;33m.\u001b[0m\u001b[0m_ols\u001b[0m\u001b[1;33m(\u001b[0m\u001b[0mx\u001b[0m\u001b[1;33m,\u001b[0m \u001b[0my\u001b[0m\u001b[1;33m,\u001b[0m \u001b[0mz\u001b[0m\u001b[1;33m,\u001b[0m \u001b[0mk\u001b[0m\u001b[1;33m)\u001b[0m\u001b[1;33m\u001b[0m\u001b[1;33m\u001b[0m\u001b[0m\n\u001b[0m\u001b[0;32m    339\u001b[0m         \u001b[0mSTAT\u001b[0m \u001b[1;33m=\u001b[0m \u001b[0mself\u001b[0m\u001b[1;33m.\u001b[0m\u001b[0m_ols_std_error\u001b[0m\u001b[1;33m(\u001b[0m\u001b[0mres\u001b[0m\u001b[1;33m)\u001b[0m\u001b[1;33m\u001b[0m\u001b[1;33m\u001b[0m\u001b[0m\n",
      "\u001b[1;32mc:\\Users\\Ruben\\AppData\\Local\\Programs\\Python\\Python310\\lib\\site-packages\\pmdarima\\arima\\stationarity.py\u001b[0m in \u001b[0;36m_ols\u001b[1;34m(x, y, z, k)\u001b[0m\n\u001b[0;32m    295\u001b[0m         \u001b[1;31m# store them.\u001b[0m\u001b[1;33m\u001b[0m\u001b[1;33m\u001b[0m\u001b[0m\n\u001b[1;32m--> 296\u001b[1;33m         \u001b[1;32mreturn\u001b[0m \u001b[0msm\u001b[0m\u001b[1;33m.\u001b[0m\u001b[0mOLS\u001b[0m\u001b[1;33m(\u001b[0m\u001b[0myt\u001b[0m\u001b[1;33m,\u001b[0m \u001b[0mX\u001b[0m\u001b[1;33m,\u001b[0m \u001b[0mhasconst\u001b[0m\u001b[1;33m=\u001b[0m\u001b[1;32mTrue\u001b[0m\u001b[1;33m)\u001b[0m\u001b[1;33m.\u001b[0m\u001b[0mfit\u001b[0m\u001b[1;33m(\u001b[0m\u001b[0mmethod\u001b[0m\u001b[1;33m=\u001b[0m\u001b[1;34m'qr'\u001b[0m\u001b[1;33m)\u001b[0m\u001b[1;33m\u001b[0m\u001b[1;33m\u001b[0m\u001b[0m\n\u001b[0m\u001b[0;32m    297\u001b[0m \u001b[1;33m\u001b[0m\u001b[0m\n",
      "\u001b[1;32mc:\\Users\\Ruben\\AppData\\Local\\Programs\\Python\\Python310\\lib\\site-packages\\statsmodels\\regression\\linear_model.py\u001b[0m in \u001b[0;36mfit\u001b[1;34m(self, method, cov_type, cov_kwds, use_t, **kwargs)\u001b[0m\n\u001b[0;32m    334\u001b[0m             \u001b[0mself\u001b[0m\u001b[1;33m.\u001b[0m\u001b[0meffects\u001b[0m \u001b[1;33m=\u001b[0m \u001b[0meffects\u001b[0m \u001b[1;33m=\u001b[0m \u001b[0mnp\u001b[0m\u001b[1;33m.\u001b[0m\u001b[0mdot\u001b[0m\u001b[1;33m(\u001b[0m\u001b[0mQ\u001b[0m\u001b[1;33m.\u001b[0m\u001b[0mT\u001b[0m\u001b[1;33m,\u001b[0m \u001b[0mself\u001b[0m\u001b[1;33m.\u001b[0m\u001b[0mwendog\u001b[0m\u001b[1;33m)\u001b[0m\u001b[1;33m\u001b[0m\u001b[1;33m\u001b[0m\u001b[0m\n\u001b[1;32m--> 335\u001b[1;33m             \u001b[0mbeta\u001b[0m \u001b[1;33m=\u001b[0m \u001b[0mnp\u001b[0m\u001b[1;33m.\u001b[0m\u001b[0mlinalg\u001b[0m\u001b[1;33m.\u001b[0m\u001b[0msolve\u001b[0m\u001b[1;33m(\u001b[0m\u001b[0mR\u001b[0m\u001b[1;33m,\u001b[0m \u001b[0meffects\u001b[0m\u001b[1;33m)\u001b[0m\u001b[1;33m\u001b[0m\u001b[1;33m\u001b[0m\u001b[0m\n\u001b[0m\u001b[0;32m    336\u001b[0m         \u001b[1;32melse\u001b[0m\u001b[1;33m:\u001b[0m\u001b[1;33m\u001b[0m\u001b[1;33m\u001b[0m\u001b[0m\n",
      "\u001b[1;32mc:\\Users\\Ruben\\AppData\\Local\\Programs\\Python\\Python310\\lib\\site-packages\\numpy\\core\\overrides.py\u001b[0m in \u001b[0;36msolve\u001b[1;34m(*args, **kwargs)\u001b[0m\n",
      "\u001b[1;32mc:\\Users\\Ruben\\AppData\\Local\\Programs\\Python\\Python310\\lib\\site-packages\\numpy\\linalg\\linalg.py\u001b[0m in \u001b[0;36msolve\u001b[1;34m(a, b)\u001b[0m\n\u001b[0;32m    379\u001b[0m     \u001b[0m_assert_stacked_2d\u001b[0m\u001b[1;33m(\u001b[0m\u001b[0ma\u001b[0m\u001b[1;33m)\u001b[0m\u001b[1;33m\u001b[0m\u001b[1;33m\u001b[0m\u001b[0m\n\u001b[1;32m--> 380\u001b[1;33m     \u001b[0m_assert_stacked_square\u001b[0m\u001b[1;33m(\u001b[0m\u001b[0ma\u001b[0m\u001b[1;33m)\u001b[0m\u001b[1;33m\u001b[0m\u001b[1;33m\u001b[0m\u001b[0m\n\u001b[0m\u001b[0;32m    381\u001b[0m     \u001b[0mb\u001b[0m\u001b[1;33m,\u001b[0m \u001b[0mwrap\u001b[0m \u001b[1;33m=\u001b[0m \u001b[0m_makearray\u001b[0m\u001b[1;33m(\u001b[0m\u001b[0mb\u001b[0m\u001b[1;33m)\u001b[0m\u001b[1;33m\u001b[0m\u001b[1;33m\u001b[0m\u001b[0m\n",
      "\u001b[1;32mc:\\Users\\Ruben\\AppData\\Local\\Programs\\Python\\Python310\\lib\\site-packages\\numpy\\linalg\\linalg.py\u001b[0m in \u001b[0;36m_assert_stacked_square\u001b[1;34m(*arrays)\u001b[0m\n\u001b[0;32m    202\u001b[0m         \u001b[1;32mif\u001b[0m \u001b[0mm\u001b[0m \u001b[1;33m!=\u001b[0m \u001b[0mn\u001b[0m\u001b[1;33m:\u001b[0m\u001b[1;33m\u001b[0m\u001b[1;33m\u001b[0m\u001b[0m\n\u001b[1;32m--> 203\u001b[1;33m             \u001b[1;32mraise\u001b[0m \u001b[0mLinAlgError\u001b[0m\u001b[1;33m(\u001b[0m\u001b[1;34m'Last 2 dimensions of the array must be square'\u001b[0m\u001b[1;33m)\u001b[0m\u001b[1;33m\u001b[0m\u001b[1;33m\u001b[0m\u001b[0m\n\u001b[0m\u001b[0;32m    204\u001b[0m \u001b[1;33m\u001b[0m\u001b[0m\n",
      "\u001b[1;31mLinAlgError\u001b[0m: Last 2 dimensions of the array must be square",
      "\nDuring handling of the above exception, another exception occurred:\n",
      "\u001b[1;31mValueError\u001b[0m                                Traceback (most recent call last)",
      "\u001b[1;32m~\\AppData\\Local\\Temp/ipykernel_27160/1390980617.py\u001b[0m in \u001b[0;36m<module>\u001b[1;34m\u001b[0m\n\u001b[1;32m----> 1\u001b[1;33m \u001b[0marima_model_year_calcio\u001b[0m \u001b[1;33m=\u001b[0m \u001b[0mpmd\u001b[0m\u001b[1;33m.\u001b[0m\u001b[0mauto_arima\u001b[0m\u001b[1;33m(\u001b[0m\u001b[0mtrain_year_calcio\u001b[0m\u001b[1;33m[\u001b[0m\u001b[1;34m\"revenue\"\u001b[0m\u001b[1;33m]\u001b[0m\u001b[1;33m,\u001b[0m \u001b[0mstart_p\u001b[0m\u001b[1;33m=\u001b[0m\u001b[1;36m0\u001b[0m\u001b[1;33m,\u001b[0m \u001b[0mstart_q\u001b[0m\u001b[1;33m=\u001b[0m\u001b[1;36m1\u001b[0m\u001b[1;33m,\u001b[0m \u001b[0mstart_P\u001b[0m\u001b[1;33m=\u001b[0m\u001b[1;36m0\u001b[0m\u001b[1;33m,\u001b[0m \u001b[0mstart_Q\u001b[0m\u001b[1;33m=\u001b[0m\u001b[1;36m1\u001b[0m\u001b[1;33m,\u001b[0m\u001b[0mmax_p\u001b[0m\u001b[1;33m=\u001b[0m\u001b[1;36m4\u001b[0m\u001b[1;33m,\u001b[0m\u001b[0mmax_q\u001b[0m\u001b[1;33m=\u001b[0m\u001b[1;36m4\u001b[0m\u001b[1;33m,\u001b[0m \u001b[0mmax_P\u001b[0m\u001b[1;33m=\u001b[0m\u001b[1;36m4\u001b[0m\u001b[1;33m,\u001b[0m \u001b[0mmax_Q\u001b[0m\u001b[1;33m=\u001b[0m\u001b[1;36m4\u001b[0m\u001b[1;33m,\u001b[0m \u001b[0mtest\u001b[0m\u001b[1;33m=\u001b[0m\u001b[1;34m\"adf\"\u001b[0m\u001b[1;33m,\u001b[0m \u001b[0mseasonal\u001b[0m\u001b[1;33m=\u001b[0m\u001b[1;32mTrue\u001b[0m\u001b[1;33m,\u001b[0m\u001b[0mm\u001b[0m\u001b[1;33m=\u001b[0m\u001b[1;36m1\u001b[0m\u001b[1;33m,\u001b[0m\u001b[0mtrace\u001b[0m\u001b[1;33m=\u001b[0m\u001b[1;32mTrue\u001b[0m\u001b[1;33m)\u001b[0m\u001b[1;33m\u001b[0m\u001b[1;33m\u001b[0m\u001b[0m\n\u001b[0m",
      "\u001b[1;32mc:\\Users\\Ruben\\AppData\\Local\\Programs\\Python\\Python310\\lib\\site-packages\\pmdarima\\arima\\auto.py\u001b[0m in \u001b[0;36mauto_arima\u001b[1;34m(y, X, start_p, d, start_q, max_p, max_d, max_q, start_P, D, start_Q, max_P, max_D, max_Q, max_order, m, seasonal, stationary, information_criterion, alpha, test, seasonal_test, stepwise, n_jobs, start_params, trend, method, maxiter, offset_test_args, seasonal_test_args, suppress_warnings, error_action, trace, random, random_state, n_fits, return_valid_fits, out_of_sample_size, scoring, scoring_args, with_intercept, sarimax_kwargs, **fit_args)\u001b[0m\n\u001b[0;32m    561\u001b[0m     \u001b[1;31m# orders it would take in order to make the TS stationary.\u001b[0m\u001b[1;33m\u001b[0m\u001b[1;33m\u001b[0m\u001b[0m\n\u001b[0;32m    562\u001b[0m     \u001b[1;32mif\u001b[0m \u001b[0md\u001b[0m \u001b[1;32mis\u001b[0m \u001b[1;32mNone\u001b[0m\u001b[1;33m:\u001b[0m\u001b[1;33m\u001b[0m\u001b[1;33m\u001b[0m\u001b[0m\n\u001b[1;32m--> 563\u001b[1;33m         d = ndiffs(\n\u001b[0m\u001b[0;32m    564\u001b[0m             \u001b[0mdx\u001b[0m\u001b[1;33m,\u001b[0m\u001b[1;33m\u001b[0m\u001b[1;33m\u001b[0m\u001b[0m\n\u001b[0;32m    565\u001b[0m             \u001b[0mtest\u001b[0m\u001b[1;33m=\u001b[0m\u001b[0mtest\u001b[0m\u001b[1;33m,\u001b[0m\u001b[1;33m\u001b[0m\u001b[1;33m\u001b[0m\u001b[0m\n",
      "\u001b[1;32mc:\\Users\\Ruben\\AppData\\Local\\Programs\\Python\\Python310\\lib\\site-packages\\pmdarima\\arima\\utils.py\u001b[0m in \u001b[0;36mndiffs\u001b[1;34m(x, alpha, test, max_d, **kwargs)\u001b[0m\n\u001b[0;32m    176\u001b[0m         \u001b[1;32mreturn\u001b[0m \u001b[0md\u001b[0m\u001b[1;33m\u001b[0m\u001b[1;33m\u001b[0m\u001b[0m\n\u001b[0;32m    177\u001b[0m \u001b[1;33m\u001b[0m\u001b[0m\n\u001b[1;32m--> 178\u001b[1;33m     with ctx.except_and_reraise(\n\u001b[0m\u001b[0;32m    179\u001b[0m             \u001b[0mnp\u001b[0m\u001b[1;33m.\u001b[0m\u001b[0mlinalg\u001b[0m\u001b[1;33m.\u001b[0m\u001b[0mLinAlgError\u001b[0m\u001b[1;33m,\u001b[0m\u001b[1;33m\u001b[0m\u001b[1;33m\u001b[0m\u001b[0m\n\u001b[0;32m    180\u001b[0m             \u001b[0mraise_err\u001b[0m\u001b[1;33m=\u001b[0m\u001b[0mValueError\u001b[0m\u001b[1;33m,\u001b[0m\u001b[1;33m\u001b[0m\u001b[1;33m\u001b[0m\u001b[0m\n",
      "\u001b[1;32mc:\\Users\\Ruben\\AppData\\Local\\Programs\\Python\\Python310\\lib\\contextlib.py\u001b[0m in \u001b[0;36m__exit__\u001b[1;34m(self, typ, value, traceback)\u001b[0m\n\u001b[0;32m    151\u001b[0m                 \u001b[0mvalue\u001b[0m \u001b[1;33m=\u001b[0m \u001b[0mtyp\u001b[0m\u001b[1;33m(\u001b[0m\u001b[1;33m)\u001b[0m\u001b[1;33m\u001b[0m\u001b[1;33m\u001b[0m\u001b[0m\n\u001b[0;32m    152\u001b[0m             \u001b[1;32mtry\u001b[0m\u001b[1;33m:\u001b[0m\u001b[1;33m\u001b[0m\u001b[1;33m\u001b[0m\u001b[0m\n\u001b[1;32m--> 153\u001b[1;33m                 \u001b[0mself\u001b[0m\u001b[1;33m.\u001b[0m\u001b[0mgen\u001b[0m\u001b[1;33m.\u001b[0m\u001b[0mthrow\u001b[0m\u001b[1;33m(\u001b[0m\u001b[0mtyp\u001b[0m\u001b[1;33m,\u001b[0m \u001b[0mvalue\u001b[0m\u001b[1;33m,\u001b[0m \u001b[0mtraceback\u001b[0m\u001b[1;33m)\u001b[0m\u001b[1;33m\u001b[0m\u001b[1;33m\u001b[0m\u001b[0m\n\u001b[0m\u001b[0;32m    154\u001b[0m             \u001b[1;32mexcept\u001b[0m \u001b[0mStopIteration\u001b[0m \u001b[1;32mas\u001b[0m \u001b[0mexc\u001b[0m\u001b[1;33m:\u001b[0m\u001b[1;33m\u001b[0m\u001b[1;33m\u001b[0m\u001b[0m\n\u001b[0;32m    155\u001b[0m                 \u001b[1;31m# Suppress StopIteration *unless* it's the same exception that\u001b[0m\u001b[1;33m\u001b[0m\u001b[1;33m\u001b[0m\u001b[0m\n",
      "\u001b[1;32mc:\\Users\\Ruben\\AppData\\Local\\Programs\\Python\\Python310\\lib\\site-packages\\pmdarima\\context_managers.py\u001b[0m in \u001b[0;36mexcept_and_reraise\u001b[1;34m(raise_err, raise_msg, *except_errs)\u001b[0m\n\u001b[0;32m     37\u001b[0m                      \u001b[0me\u001b[0m\u001b[1;33m.\u001b[0m\u001b[0m__class__\u001b[0m\u001b[1;33m.\u001b[0m\u001b[0m__name__\u001b[0m\u001b[1;33m,\u001b[0m\u001b[1;33m\u001b[0m\u001b[1;33m\u001b[0m\u001b[0m\n\u001b[0;32m     38\u001b[0m                      str(e))\n\u001b[1;32m---> 39\u001b[1;33m         \u001b[1;32mraise\u001b[0m \u001b[0mraise_err\u001b[0m\u001b[1;33m(\u001b[0m\u001b[0mmessage\u001b[0m\u001b[1;33m)\u001b[0m\u001b[1;33m\u001b[0m\u001b[1;33m\u001b[0m\u001b[0m\n\u001b[0m",
      "\u001b[1;31mValueError\u001b[0m: Encountered exception in stationarity test ('adf'). This can occur in seasonal settings when a large enough `m` coupled with a large enough `D` difference the training array into too few samples for OLS (input contains 7 samples). Try fitting on a larger training size (raised from LinAlgError: Last 2 dimensions of the array must be square)"
     ]
    }
   ],
   "source": [
    "arima_model_year_calcio = pmd.auto_arima(train_year_calcio[\"revenue\"], start_p=0, start_q=1, start_P=0, start_Q=1,max_p=4,max_q=4, max_P=4, max_Q=4, test=\"adf\", seasonal=True,m=1,trace=True)"
   ]
  },
  {
   "cell_type": "code",
   "execution_count": 65,
   "metadata": {},
   "outputs": [
    {
     "name": "stdout",
     "output_type": "stream",
     "text": [
      "Performing stepwise search to minimize aic\n",
      " ARIMA(0,2,0)(0,0,0)[4]             : AIC=681.628, Time=0.00 sec\n",
      " ARIMA(1,2,0)(1,0,0)[4]             : AIC=682.656, Time=0.02 sec\n",
      " ARIMA(0,2,1)(0,0,1)[4]             : AIC=684.171, Time=0.02 sec\n",
      " ARIMA(0,2,0)(1,0,0)[4]             : AIC=680.391, Time=0.01 sec\n",
      " ARIMA(0,2,0)(2,0,0)[4]             : AIC=682.446, Time=0.03 sec\n",
      " ARIMA(0,2,0)(1,0,1)[4]             : AIC=682.331, Time=0.02 sec\n",
      " ARIMA(0,2,0)(0,0,1)[4]             : AIC=685.449, Time=0.01 sec\n",
      " ARIMA(0,2,0)(2,0,1)[4]             : AIC=683.858, Time=0.05 sec\n",
      " ARIMA(0,2,1)(1,0,0)[4]             : AIC=683.156, Time=0.02 sec\n",
      " ARIMA(1,2,1)(1,0,0)[4]             : AIC=685.152, Time=0.05 sec\n",
      " ARIMA(0,2,0)(1,0,0)[4] intercept   : AIC=681.868, Time=0.02 sec\n",
      "\n",
      "Best model:  ARIMA(0,2,0)(1,0,0)[4]          \n",
      "Total fit time: 0.271 seconds\n"
     ]
    }
   ],
   "source": [
    "arima_model_trim_pesca = pmd.auto_arima(train_trim_pesca[\"revenue\"], start_p=0, start_q=0, start_P=0, start_Q=0, test=\"adf\", seasonal=True,m=4,trace=True)"
   ]
  },
  {
   "cell_type": "code",
   "execution_count": 69,
   "metadata": {},
   "outputs": [
    {
     "name": "stdout",
     "output_type": "stream",
     "text": [
      "Performing stepwise search to minimize aic\n",
      " ARIMA(0,0,0)(0,1,0)[2] intercept   : AIC=750.561, Time=0.00 sec\n",
      " ARIMA(1,0,0)(1,1,0)[2] intercept   : AIC=inf, Time=0.05 sec\n",
      " ARIMA(0,0,1)(0,1,1)[2] intercept   : AIC=745.971, Time=0.02 sec\n",
      " ARIMA(0,0,0)(0,1,0)[2]             : AIC=748.641, Time=0.00 sec\n",
      " ARIMA(0,0,1)(0,1,0)[2] intercept   : AIC=748.719, Time=0.01 sec\n",
      " ARIMA(0,0,1)(1,1,1)[2] intercept   : AIC=741.862, Time=0.17 sec\n",
      " ARIMA(0,0,1)(1,1,0)[2] intercept   : AIC=739.987, Time=0.05 sec\n",
      " ARIMA(0,0,1)(2,1,0)[2] intercept   : AIC=741.875, Time=0.08 sec\n",
      " ARIMA(0,0,1)(2,1,1)[2] intercept   : AIC=743.670, Time=0.15 sec\n",
      " ARIMA(0,0,0)(1,1,0)[2] intercept   : AIC=inf, Time=0.03 sec\n",
      " ARIMA(1,0,1)(1,1,0)[2] intercept   : AIC=inf, Time=0.05 sec\n",
      " ARIMA(0,0,1)(1,1,0)[2]             : AIC=737.471, Time=0.04 sec\n",
      " ARIMA(0,0,1)(0,1,0)[2]             : AIC=746.694, Time=0.01 sec\n",
      " ARIMA(0,0,1)(2,1,0)[2]             : AIC=739.423, Time=0.07 sec\n",
      " ARIMA(0,0,1)(1,1,1)[2]             : AIC=739.439, Time=0.07 sec\n",
      " ARIMA(0,0,1)(0,1,1)[2]             : AIC=743.000, Time=0.02 sec\n",
      " ARIMA(0,0,1)(2,1,1)[2]             : AIC=741.314, Time=0.12 sec\n",
      " ARIMA(0,0,0)(1,1,0)[2]             : AIC=inf, Time=0.02 sec\n",
      " ARIMA(1,0,1)(1,1,0)[2]             : AIC=739.389, Time=0.06 sec\n",
      " ARIMA(1,0,0)(1,1,0)[2]             : AIC=inf, Time=0.04 sec\n",
      "\n",
      "Best model:  ARIMA(0,0,1)(1,1,0)[2]          \n",
      "Total fit time: 1.077 seconds\n"
     ]
    }
   ],
   "source": [
    "arima_model_trim_calcio= pmd.auto_arima(train_trim_calcio[\"revenue\"], start_p=0, start_q=0, start_P=0, start_Q=0, test=\"adf\", seasonal=True,m=2,trace=True)"
   ]
  },
  {
   "cell_type": "code",
   "execution_count": 5,
   "metadata": {},
   "outputs": [],
   "source": [
    "import pickle"
   ]
  },
  {
   "cell_type": "code",
   "execution_count": 17,
   "metadata": {},
   "outputs": [],
   "source": [
    "with open('./models/arima.pkl', 'wb') as pkl:\n",
    "    pickle.dump(arima_model_year, pkl)"
   ]
  },
  {
   "cell_type": "code",
   "execution_count": 66,
   "metadata": {},
   "outputs": [],
   "source": [
    "with open('./models/arima_trim_pesca.pkl', 'wb') as pkl:\n",
    "    pickle.dump(arima_model_trim_pesca, pkl)"
   ]
  },
  {
   "cell_type": "code",
   "execution_count": 61,
   "metadata": {},
   "outputs": [],
   "source": [
    "with open('./models/arima_trim_calcio.pkl', 'wb') as pkl:\n",
    "    pickle.dump(arima_model_trim_calcio, pkl)"
   ]
  },
  {
   "cell_type": "markdown",
   "metadata": {},
   "source": [
    "Best model (2,0,0)(3,0,1)"
   ]
  },
  {
   "cell_type": "code",
   "execution_count": 82,
   "metadata": {},
   "outputs": [
    {
     "data": {
      "text/html": [
       "<div>\n",
       "<style scoped>\n",
       "    .dataframe tbody tr th:only-of-type {\n",
       "        vertical-align: middle;\n",
       "    }\n",
       "\n",
       "    .dataframe tbody tr th {\n",
       "        vertical-align: top;\n",
       "    }\n",
       "\n",
       "    .dataframe thead th {\n",
       "        text-align: right;\n",
       "    }\n",
       "</style>\n",
       "<table border=\"1\" class=\"dataframe\">\n",
       "  <thead>\n",
       "    <tr style=\"text-align: right;\">\n",
       "      <th></th>\n",
       "      <th>Unnamed: 0</th>\n",
       "      <th>year</th>\n",
       "      <th>revenue</th>\n",
       "      <th>SARIMA</th>\n",
       "    </tr>\n",
       "  </thead>\n",
       "  <tbody>\n",
       "    <tr>\n",
       "      <th>26</th>\n",
       "      <td>26</td>\n",
       "      <td>2020-09-30</td>\n",
       "      <td>1727871.52</td>\n",
       "      <td>4.476301e+06</td>\n",
       "    </tr>\n",
       "    <tr>\n",
       "      <th>27</th>\n",
       "      <td>27</td>\n",
       "      <td>2020-12-31</td>\n",
       "      <td>1881887.80</td>\n",
       "      <td>5.787355e+06</td>\n",
       "    </tr>\n",
       "    <tr>\n",
       "      <th>28</th>\n",
       "      <td>28</td>\n",
       "      <td>2021-03-31</td>\n",
       "      <td>2258617.01</td>\n",
       "      <td>7.026501e+06</td>\n",
       "    </tr>\n",
       "    <tr>\n",
       "      <th>29</th>\n",
       "      <td>29</td>\n",
       "      <td>2021-06-30</td>\n",
       "      <td>1923040.08</td>\n",
       "      <td>7.593583e+06</td>\n",
       "    </tr>\n",
       "    <tr>\n",
       "      <th>30</th>\n",
       "      <td>30</td>\n",
       "      <td>2021-09-30</td>\n",
       "      <td>1620445.53</td>\n",
       "      <td>8.131103e+06</td>\n",
       "    </tr>\n",
       "    <tr>\n",
       "      <th>31</th>\n",
       "      <td>31</td>\n",
       "      <td>2021-12-31</td>\n",
       "      <td>1704044.85</td>\n",
       "      <td>8.753975e+06</td>\n",
       "    </tr>\n",
       "    <tr>\n",
       "      <th>32</th>\n",
       "      <td>32</td>\n",
       "      <td>2022-03-31</td>\n",
       "      <td>1448752.71</td>\n",
       "      <td>9.414009e+06</td>\n",
       "    </tr>\n",
       "  </tbody>\n",
       "</table>\n",
       "</div>"
      ],
      "text/plain": [
       "    Unnamed: 0        year     revenue        SARIMA\n",
       "26          26  2020-09-30  1727871.52  4.476301e+06\n",
       "27          27  2020-12-31  1881887.80  5.787355e+06\n",
       "28          28  2021-03-31  2258617.01  7.026501e+06\n",
       "29          29  2021-06-30  1923040.08  7.593583e+06\n",
       "30          30  2021-09-30  1620445.53  8.131103e+06\n",
       "31          31  2021-12-31  1704044.85  8.753975e+06\n",
       "32          32  2022-03-31  1448752.71  9.414009e+06"
      ]
     },
     "execution_count": 82,
     "metadata": {},
     "output_type": "execute_result"
    }
   ],
   "source": [
    "test_trim_pesca[\"SARIMA\"] = arima_model_trim_pesca.predict(n_periods=len(test_trim_pesca))\n",
    "test_trim_pesca.head(10)"
   ]
  },
  {
   "cell_type": "code",
   "execution_count": 83,
   "metadata": {},
   "outputs": [
    {
     "data": {
      "text/html": [
       "<div>\n",
       "<style scoped>\n",
       "    .dataframe tbody tr th:only-of-type {\n",
       "        vertical-align: middle;\n",
       "    }\n",
       "\n",
       "    .dataframe tbody tr th {\n",
       "        vertical-align: top;\n",
       "    }\n",
       "\n",
       "    .dataframe thead th {\n",
       "        text-align: right;\n",
       "    }\n",
       "</style>\n",
       "<table border=\"1\" class=\"dataframe\">\n",
       "  <thead>\n",
       "    <tr style=\"text-align: right;\">\n",
       "      <th></th>\n",
       "      <th>Unnamed: 0</th>\n",
       "      <th>year</th>\n",
       "      <th>revenue</th>\n",
       "      <th>SARIMA</th>\n",
       "    </tr>\n",
       "  </thead>\n",
       "  <tbody>\n",
       "    <tr>\n",
       "      <th>26</th>\n",
       "      <td>26</td>\n",
       "      <td>2020-09-30</td>\n",
       "      <td>2254753.87</td>\n",
       "      <td>4.919038e+06</td>\n",
       "    </tr>\n",
       "    <tr>\n",
       "      <th>27</th>\n",
       "      <td>27</td>\n",
       "      <td>2020-12-31</td>\n",
       "      <td>1170900.69</td>\n",
       "      <td>1.467532e+06</td>\n",
       "    </tr>\n",
       "    <tr>\n",
       "      <th>28</th>\n",
       "      <td>28</td>\n",
       "      <td>2021-03-31</td>\n",
       "      <td>509403.89</td>\n",
       "      <td>8.829062e+05</td>\n",
       "    </tr>\n",
       "    <tr>\n",
       "      <th>29</th>\n",
       "      <td>29</td>\n",
       "      <td>2021-06-30</td>\n",
       "      <td>589663.53</td>\n",
       "      <td>4.559836e+05</td>\n",
       "    </tr>\n",
       "    <tr>\n",
       "      <th>30</th>\n",
       "      <td>30</td>\n",
       "      <td>2021-09-30</td>\n",
       "      <td>1257807.31</td>\n",
       "      <td>4.918919e+06</td>\n",
       "    </tr>\n",
       "    <tr>\n",
       "      <th>31</th>\n",
       "      <td>31</td>\n",
       "      <td>2021-12-31</td>\n",
       "      <td>1350740.40</td>\n",
       "      <td>1.467502e+06</td>\n",
       "    </tr>\n",
       "    <tr>\n",
       "      <th>32</th>\n",
       "      <td>32</td>\n",
       "      <td>2022-03-31</td>\n",
       "      <td>781360.53</td>\n",
       "      <td>8.830248e+05</td>\n",
       "    </tr>\n",
       "  </tbody>\n",
       "</table>\n",
       "</div>"
      ],
      "text/plain": [
       "    Unnamed: 0        year     revenue        SARIMA\n",
       "26          26  2020-09-30  2254753.87  4.919038e+06\n",
       "27          27  2020-12-31  1170900.69  1.467532e+06\n",
       "28          28  2021-03-31   509403.89  8.829062e+05\n",
       "29          29  2021-06-30   589663.53  4.559836e+05\n",
       "30          30  2021-09-30  1257807.31  4.918919e+06\n",
       "31          31  2021-12-31  1350740.40  1.467502e+06\n",
       "32          32  2022-03-31   781360.53  8.830248e+05"
      ]
     },
     "execution_count": 83,
     "metadata": {},
     "output_type": "execute_result"
    }
   ],
   "source": [
    "test_trim_calcio[\"SARIMA\"] = arima_model_trim_calcio.predict(n_periods=len(test_trim_calcio))\n",
    "test_trim_calcio.head(10)"
   ]
  },
  {
   "cell_type": "code",
   "execution_count": 84,
   "metadata": {},
   "outputs": [
    {
     "data": {
      "text/html": [
       "<div>\n",
       "<style scoped>\n",
       "    .dataframe tbody tr th:only-of-type {\n",
       "        vertical-align: middle;\n",
       "    }\n",
       "\n",
       "    .dataframe tbody tr th {\n",
       "        vertical-align: top;\n",
       "    }\n",
       "\n",
       "    .dataframe thead th {\n",
       "        text-align: right;\n",
       "    }\n",
       "</style>\n",
       "<table border=\"1\" class=\"dataframe\">\n",
       "  <thead>\n",
       "    <tr style=\"text-align: right;\">\n",
       "      <th></th>\n",
       "      <th>Unnamed: 0</th>\n",
       "      <th>year</th>\n",
       "      <th>revenue</th>\n",
       "      <th>SARIMA</th>\n",
       "    </tr>\n",
       "  </thead>\n",
       "  <tbody>\n",
       "    <tr>\n",
       "      <th>7</th>\n",
       "      <td>7.0</td>\n",
       "      <td>2021.0</td>\n",
       "      <td>7506147.47</td>\n",
       "      <td>6.571590e+06</td>\n",
       "    </tr>\n",
       "    <tr>\n",
       "      <th>8</th>\n",
       "      <td>8.0</td>\n",
       "      <td>2022.0</td>\n",
       "      <td>1526369.56</td>\n",
       "      <td>6.571590e+06</td>\n",
       "    </tr>\n",
       "    <tr>\n",
       "      <th>0</th>\n",
       "      <td>NaN</td>\n",
       "      <td>NaN</td>\n",
       "      <td>NaN</td>\n",
       "      <td>6.571590e+06</td>\n",
       "    </tr>\n",
       "  </tbody>\n",
       "</table>\n",
       "</div>"
      ],
      "text/plain": [
       "   Unnamed: 0    year     revenue        SARIMA\n",
       "7         7.0  2021.0  7506147.47  6.571590e+06\n",
       "8         8.0  2022.0  1526369.56  6.571590e+06\n",
       "0         NaN     NaN         NaN  6.571590e+06"
      ]
     },
     "execution_count": 84,
     "metadata": {},
     "output_type": "execute_result"
    }
   ],
   "source": [
    "test_year[\"SARIMA\"] = arima_model_year.predict(n_periods=len(test_year))\n",
    "test_year.head(10)"
   ]
  },
  {
   "cell_type": "code",
   "execution_count": 63,
   "metadata": {},
   "outputs": [],
   "source": [
    "def mape(dataset): \n",
    "    print(dataset.shape[0])\n",
    "    sum = np.sum(np.divide(np.abs(dataset[\"revenue\"] - dataset[\"SARIMA\"]),dataset[\"revenue\"] ))\n",
    "    sum = sum * 100\n",
    "    return sum/dataset.shape[0]\n"
   ]
  },
  {
   "cell_type": "code",
   "execution_count": 85,
   "metadata": {},
   "outputs": [
    {
     "name": "stdout",
     "output_type": "stream",
     "text": [
      "1\n",
      "12.450564946258455\n"
     ]
    }
   ],
   "source": [
    "print(mape(test_year.head(1)))"
   ]
  },
  {
   "cell_type": "code",
   "execution_count": 86,
   "metadata": {},
   "outputs": [
    {
     "name": "stdout",
     "output_type": "stream",
     "text": [
      "1\n",
      "159.06444550590894\n"
     ]
    }
   ],
   "source": [
    "print(mape(test_trim_pesca.head(1)))"
   ]
  },
  {
   "cell_type": "code",
   "execution_count": 87,
   "metadata": {},
   "outputs": [
    {
     "name": "stdout",
     "output_type": "stream",
     "text": [
      "1\n",
      "118.16297243962693\n"
     ]
    }
   ],
   "source": [
    "print(mape(test_trim_calcio.head(1)))"
   ]
  },
  {
   "cell_type": "code",
   "execution_count": null,
   "metadata": {},
   "outputs": [],
   "source": [
    "import plotly.express as px\n",
    "fig = px.line(test, x='data', y=['totale',\"ARIMA\"])\n",
    "fig.show()"
   ]
  }
 ],
 "metadata": {
  "interpreter": {
   "hash": "e850eec08e9669c52e782ee28b71a07544c9e38f5af88e96f29f06e82864309f"
  },
  "kernelspec": {
   "display_name": "Python 3.10.1 64-bit",
   "language": "python",
   "name": "python3"
  },
  "language_info": {
   "codemirror_mode": {
    "name": "ipython",
    "version": 3
   },
   "file_extension": ".py",
   "mimetype": "text/x-python",
   "name": "python",
   "nbconvert_exporter": "python",
   "pygments_lexer": "ipython3",
   "version": "3.10.1"
  },
  "orig_nbformat": 4
 },
 "nbformat": 4,
 "nbformat_minor": 2
}
