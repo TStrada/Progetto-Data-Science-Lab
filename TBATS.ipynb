{
 "cells": [
  {
   "cell_type": "code",
   "execution_count": 1,
   "metadata": {},
   "outputs": [],
   "source": [
    "import pandas as pd\n",
    "import numpy as np\n",
    "import datetime as dt"
   ]
  },
  {
   "cell_type": "markdown",
   "metadata": {},
   "source": [
    "TBATS is a forecasting method to model time series data. The main aim of this is to forecast time series with complex seasonal patterns using exponential smoothing"
   ]
  },
  {
   "cell_type": "markdown",
   "metadata": {},
   "source": [
    "![tbats](https://miro.medium.com/max/1400/1*YplGt73W0QbEgNmUV9jKeQ.png)"
   ]
  },
  {
   "cell_type": "markdown",
   "metadata": {},
   "source": [
    "TBATS: Trigonometric seasonality, Box-Cox transformation, ARMA errors, Trend and Seasonal components."
   ]
  },
  {
   "cell_type": "markdown",
   "metadata": {},
   "source": [
    "In order to start forecasting, we need to first install tbats package. The following steps should be implemented to create the model:\n",
    "\n",
    "- Partition the data into two parts(say, train_data and test_data). Train_data is used to train the model and fit the model to data. The trained model is evaluated using test_data.\n",
    "- Provide information about season lengths to the model (e.g., if hourly data is present, the model can be plotted weekly for all 24*7 hrs in a week).\n",
    "- Fit the model to train_data using train_data to the model.\n",
    "- Forecast the model ahead by a certain period of time for which you want to predict."
   ]
  },
  {
   "cell_type": "markdown",
   "metadata": {},
   "source": [
    "![tbats](https://miro.medium.com/max/1400/1*uAzCuU6lUiPQAqu9oNOl3w.png)"
   ]
  },
  {
   "cell_type": "markdown",
   "metadata": {},
   "source": [
    "The final model will be chosen using Akaike information criterion (AIC).\n",
    "\n",
    "In particular, auto ARIMA is used to decide if residuals need modeling and what p and q values are suitable."
   ]
  },
  {
   "cell_type": "code",
   "execution_count": null,
   "metadata": {},
   "outputs": [],
   "source": [
    "# ! pip install tbats"
   ]
  },
  {
   "cell_type": "code",
   "execution_count": 2,
   "metadata": {},
   "outputs": [],
   "source": [
    "from tbats import BATS, TBATS"
   ]
  },
  {
   "cell_type": "code",
   "execution_count": 3,
   "metadata": {},
   "outputs": [
    {
     "data": {
      "text/html": [
       "<div>\n",
       "<style scoped>\n",
       "    .dataframe tbody tr th:only-of-type {\n",
       "        vertical-align: middle;\n",
       "    }\n",
       "\n",
       "    .dataframe tbody tr th {\n",
       "        vertical-align: top;\n",
       "    }\n",
       "\n",
       "    .dataframe thead th {\n",
       "        text-align: right;\n",
       "    }\n",
       "</style>\n",
       "<table border=\"1\" class=\"dataframe\">\n",
       "  <thead>\n",
       "    <tr style=\"text-align: right;\">\n",
       "      <th></th>\n",
       "      <th>Unnamed: 0</th>\n",
       "      <th>data</th>\n",
       "      <th>new_index</th>\n",
       "      <th>totale</th>\n",
       "      <th>settore</th>\n",
       "      <th>Anno</th>\n",
       "      <th>Mese</th>\n",
       "      <th>Giorno</th>\n",
       "      <th>Mese (n°)</th>\n",
       "    </tr>\n",
       "  </thead>\n",
       "  <tbody>\n",
       "    <tr>\n",
       "      <th>0</th>\n",
       "      <td>0</td>\n",
       "      <td>2014-01-01</td>\n",
       "      <td>NaN</td>\n",
       "      <td>0.0</td>\n",
       "      <td>Pesca</td>\n",
       "      <td>2014</td>\n",
       "      <td>Gennaio</td>\n",
       "      <td>1</td>\n",
       "      <td>1</td>\n",
       "    </tr>\n",
       "    <tr>\n",
       "      <th>1</th>\n",
       "      <td>1</td>\n",
       "      <td>2014-01-02</td>\n",
       "      <td>NaN</td>\n",
       "      <td>0.0</td>\n",
       "      <td>Pesca</td>\n",
       "      <td>2014</td>\n",
       "      <td>Gennaio</td>\n",
       "      <td>2</td>\n",
       "      <td>1</td>\n",
       "    </tr>\n",
       "    <tr>\n",
       "      <th>2</th>\n",
       "      <td>2</td>\n",
       "      <td>2014-01-03</td>\n",
       "      <td>NaN</td>\n",
       "      <td>0.0</td>\n",
       "      <td>Pesca</td>\n",
       "      <td>2014</td>\n",
       "      <td>Gennaio</td>\n",
       "      <td>3</td>\n",
       "      <td>1</td>\n",
       "    </tr>\n",
       "    <tr>\n",
       "      <th>3</th>\n",
       "      <td>3</td>\n",
       "      <td>2014-01-04</td>\n",
       "      <td>NaN</td>\n",
       "      <td>0.0</td>\n",
       "      <td>Pesca</td>\n",
       "      <td>2014</td>\n",
       "      <td>Gennaio</td>\n",
       "      <td>4</td>\n",
       "      <td>1</td>\n",
       "    </tr>\n",
       "    <tr>\n",
       "      <th>4</th>\n",
       "      <td>4</td>\n",
       "      <td>2014-01-05</td>\n",
       "      <td>NaN</td>\n",
       "      <td>0.0</td>\n",
       "      <td>Pesca</td>\n",
       "      <td>2014</td>\n",
       "      <td>Gennaio</td>\n",
       "      <td>5</td>\n",
       "      <td>1</td>\n",
       "    </tr>\n",
       "  </tbody>\n",
       "</table>\n",
       "</div>"
      ],
      "text/plain": [
       "   Unnamed: 0        data  new_index  totale settore  Anno     Mese  Giorno  \\\n",
       "0           0  2014-01-01        NaN     0.0   Pesca  2014  Gennaio       1   \n",
       "1           1  2014-01-02        NaN     0.0   Pesca  2014  Gennaio       2   \n",
       "2           2  2014-01-03        NaN     0.0   Pesca  2014  Gennaio       3   \n",
       "3           3  2014-01-04        NaN     0.0   Pesca  2014  Gennaio       4   \n",
       "4           4  2014-01-05        NaN     0.0   Pesca  2014  Gennaio       5   \n",
       "\n",
       "   Mese (n°)  \n",
       "0          1  \n",
       "1          1  \n",
       "2          1  \n",
       "3          1  \n",
       "4          1  "
      ]
     },
     "execution_count": 3,
     "metadata": {},
     "output_type": "execute_result"
    }
   ],
   "source": [
    "df = pd.read_csv('./data/serie-storiche-ecommerce-pulito-no-buchi-temporali.csv')\n",
    "df.head()"
   ]
  },
  {
   "cell_type": "code",
   "execution_count": 11,
   "metadata": {},
   "outputs": [
    {
     "data": {
      "text/html": [
       "<div>\n",
       "<style scoped>\n",
       "    .dataframe tbody tr th:only-of-type {\n",
       "        vertical-align: middle;\n",
       "    }\n",
       "\n",
       "    .dataframe tbody tr th {\n",
       "        vertical-align: top;\n",
       "    }\n",
       "\n",
       "    .dataframe thead th {\n",
       "        text-align: right;\n",
       "    }\n",
       "</style>\n",
       "<table border=\"1\" class=\"dataframe\">\n",
       "  <thead>\n",
       "    <tr style=\"text-align: right;\">\n",
       "      <th></th>\n",
       "      <th>Unnamed: 0</th>\n",
       "      <th>data</th>\n",
       "      <th>new_index</th>\n",
       "      <th>totale</th>\n",
       "      <th>settore</th>\n",
       "      <th>Anno</th>\n",
       "      <th>Mese</th>\n",
       "      <th>Giorno</th>\n",
       "      <th>Mese (n°)</th>\n",
       "    </tr>\n",
       "  </thead>\n",
       "  <tbody>\n",
       "    <tr>\n",
       "      <th>0</th>\n",
       "      <td>0</td>\n",
       "      <td>2014-01-01</td>\n",
       "      <td>NaN</td>\n",
       "      <td>0.0</td>\n",
       "      <td>Pesca</td>\n",
       "      <td>2014</td>\n",
       "      <td>Gennaio</td>\n",
       "      <td>1</td>\n",
       "      <td>1</td>\n",
       "    </tr>\n",
       "    <tr>\n",
       "      <th>1</th>\n",
       "      <td>1</td>\n",
       "      <td>2014-01-02</td>\n",
       "      <td>NaN</td>\n",
       "      <td>0.0</td>\n",
       "      <td>Pesca</td>\n",
       "      <td>2014</td>\n",
       "      <td>Gennaio</td>\n",
       "      <td>2</td>\n",
       "      <td>1</td>\n",
       "    </tr>\n",
       "    <tr>\n",
       "      <th>2</th>\n",
       "      <td>2</td>\n",
       "      <td>2014-01-03</td>\n",
       "      <td>NaN</td>\n",
       "      <td>0.0</td>\n",
       "      <td>Pesca</td>\n",
       "      <td>2014</td>\n",
       "      <td>Gennaio</td>\n",
       "      <td>3</td>\n",
       "      <td>1</td>\n",
       "    </tr>\n",
       "    <tr>\n",
       "      <th>3</th>\n",
       "      <td>3</td>\n",
       "      <td>2014-01-04</td>\n",
       "      <td>NaN</td>\n",
       "      <td>0.0</td>\n",
       "      <td>Pesca</td>\n",
       "      <td>2014</td>\n",
       "      <td>Gennaio</td>\n",
       "      <td>4</td>\n",
       "      <td>1</td>\n",
       "    </tr>\n",
       "    <tr>\n",
       "      <th>4</th>\n",
       "      <td>4</td>\n",
       "      <td>2014-01-05</td>\n",
       "      <td>NaN</td>\n",
       "      <td>0.0</td>\n",
       "      <td>Pesca</td>\n",
       "      <td>2014</td>\n",
       "      <td>Gennaio</td>\n",
       "      <td>5</td>\n",
       "      <td>1</td>\n",
       "    </tr>\n",
       "  </tbody>\n",
       "</table>\n",
       "</div>"
      ],
      "text/plain": [
       "   Unnamed: 0        data  new_index  totale settore  Anno     Mese  Giorno  \\\n",
       "0           0  2014-01-01        NaN     0.0   Pesca  2014  Gennaio       1   \n",
       "1           1  2014-01-02        NaN     0.0   Pesca  2014  Gennaio       2   \n",
       "2           2  2014-01-03        NaN     0.0   Pesca  2014  Gennaio       3   \n",
       "3           3  2014-01-04        NaN     0.0   Pesca  2014  Gennaio       4   \n",
       "4           4  2014-01-05        NaN     0.0   Pesca  2014  Gennaio       5   \n",
       "\n",
       "   Mese (n°)  \n",
       "0          1  \n",
       "1          1  \n",
       "2          1  \n",
       "3          1  \n",
       "4          1  "
      ]
     },
     "execution_count": 11,
     "metadata": {},
     "output_type": "execute_result"
    }
   ],
   "source": [
    "df_pesca = df[df[\"settore\"] == 'Pesca']\n",
    "df.head()"
   ]
  },
  {
   "cell_type": "code",
   "execution_count": 12,
   "metadata": {},
   "outputs": [],
   "source": [
    "df_pesca2 = df_pesca[['data', 'settore', 'totale']]\n",
    "df_pesca2 = df_pesca2.set_index('data')"
   ]
  },
  {
   "cell_type": "code",
   "execution_count": 15,
   "metadata": {},
   "outputs": [],
   "source": [
    "df_pesca2 = df_pesca2.sort_values(by='data')"
   ]
  },
  {
   "cell_type": "code",
   "execution_count": 16,
   "metadata": {},
   "outputs": [],
   "source": [
    "y = df_pesca2['totale']\n",
    "y_to_train = y.iloc[:(len(y)-365)]\n",
    "y_to_test = y.iloc[(len(y)-365):] # last year for testing"
   ]
  },
  {
   "cell_type": "code",
   "execution_count": 17,
   "metadata": {},
   "outputs": [],
   "source": [
    "# Fit the model\n",
    "estimator = TBATS(seasonal_periods=(7, 365.25))\n",
    "model = estimator.fit(y_to_train) # Forecast 365 days ahead\n",
    "y_forecast = model.forecast(steps=365)"
   ]
  }
 ],
 "metadata": {
  "interpreter": {
   "hash": "0504f046a5aaa1b9f965cbf0db82d16786af5a6f5e704d1c7a7082e8216d823c"
  },
  "kernelspec": {
   "display_name": "Python 3.10.4 ('timeSeries')",
   "language": "python",
   "name": "python3"
  },
  "language_info": {
   "codemirror_mode": {
    "name": "ipython",
    "version": 3
   },
   "file_extension": ".py",
   "mimetype": "text/x-python",
   "name": "python",
   "nbconvert_exporter": "python",
   "pygments_lexer": "ipython3",
   "version": "3.10.4"
  },
  "orig_nbformat": 4
 },
 "nbformat": 4,
 "nbformat_minor": 2
}
